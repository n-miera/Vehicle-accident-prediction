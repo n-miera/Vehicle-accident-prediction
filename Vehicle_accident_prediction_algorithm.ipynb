{
  "nbformat": 4,
  "nbformat_minor": 0,
  "metadata": {
    "colab": {
      "provenance": [],
      "collapsed_sections": [
        "FAGQa0AW8oaS",
        "kwlo9PpC4xTb",
        "3ao7S_Xv9Af5",
        "5FnSuGatb6J4",
        "Q3RgE-PDUoLE",
        "9uREzKIePrOM",
        "tBsUiq14XJvU",
        "2yO1nUzRcFgO",
        "6lUiVI8-2CNM",
        "etk45bsl0_Ct",
        "WDhD3Igh1Xec",
        "QNxwvmyK1kR8",
        "AEaa1NXt1vrV",
        "iFv1khs32rzt"
      ],
      "authorship_tag": "ABX9TyNZHTA7xj+EBigVRnVvrfzN",
      "include_colab_link": true
    },
    "kernelspec": {
      "name": "python3",
      "display_name": "Python 3"
    },
    "language_info": {
      "name": "python"
    }
  },
  "cells": [
    {
      "cell_type": "markdown",
      "metadata": {
        "id": "view-in-github",
        "colab_type": "text"
      },
      "source": [
        "<a href=\"https://colab.research.google.com/github/n-miera/Vehicle-accident-prediction/blob/main/Vehicle_accident_prediction_algorithm.ipynb\" target=\"_parent\"><img src=\"https://colab.research.google.com/assets/colab-badge.svg\" alt=\"Open In Colab\"/></a>"
      ]
    },
    {
      "cell_type": "markdown",
      "source": [
        "# Vehicle accident prediction algorithm\n",
        "\n",
        "---\n",
        "source: https://www.youtube.com/watch?v=NUXdtN1W1FE\n"
      ],
      "metadata": {
        "id": "kZHA4wxW1_FS"
      }
    },
    {
      "cell_type": "markdown",
      "source": [
        "## Uploading dataset"
      ],
      "metadata": {
        "id": "FAGQa0AW8oaS"
      }
    },
    {
      "cell_type": "code",
      "source": [
        "import pandas as pd\n",
        "from google.colab import files\n",
        "uploaded = files.upload()\n",
        "import io\n",
        "\n",
        "#url = 'https://raw.githubusercontent.com/CSSEGISandData/COVID-19/master/csse_covid_19_data/csse_covid_19_time_series/time_series_covid19_confirmed_global.csv'\n"
      ],
      "metadata": {
        "colab": {
          "base_uri": "https://localhost:8080/",
          "height": 71
        },
        "id": "3ouPD9Gi2Zgi",
        "outputId": "6348d981-10a6-4afb-83cf-c35e19cd3893"
      },
      "execution_count": null,
      "outputs": [
        {
          "output_type": "display_data",
          "data": {
            "text/plain": [
              "<IPython.core.display.HTML object>"
            ],
            "text/html": [
              "\n",
              "     <input type=\"file\" id=\"files-5f422ed0-a760-4936-8cfb-fcdc92c1ac0d\" name=\"files[]\" multiple disabled\n",
              "        style=\"border:none\" />\n",
              "     <output id=\"result-5f422ed0-a760-4936-8cfb-fcdc92c1ac0d\">\n",
              "      Upload widget is only available when the cell has been executed in the\n",
              "      current browser session. Please rerun this cell to enable.\n",
              "      </output>\n",
              "      <script>// Copyright 2017 Google LLC\n",
              "//\n",
              "// Licensed under the Apache License, Version 2.0 (the \"License\");\n",
              "// you may not use this file except in compliance with the License.\n",
              "// You may obtain a copy of the License at\n",
              "//\n",
              "//      http://www.apache.org/licenses/LICENSE-2.0\n",
              "//\n",
              "// Unless required by applicable law or agreed to in writing, software\n",
              "// distributed under the License is distributed on an \"AS IS\" BASIS,\n",
              "// WITHOUT WARRANTIES OR CONDITIONS OF ANY KIND, either express or implied.\n",
              "// See the License for the specific language governing permissions and\n",
              "// limitations under the License.\n",
              "\n",
              "/**\n",
              " * @fileoverview Helpers for google.colab Python module.\n",
              " */\n",
              "(function(scope) {\n",
              "function span(text, styleAttributes = {}) {\n",
              "  const element = document.createElement('span');\n",
              "  element.textContent = text;\n",
              "  for (const key of Object.keys(styleAttributes)) {\n",
              "    element.style[key] = styleAttributes[key];\n",
              "  }\n",
              "  return element;\n",
              "}\n",
              "\n",
              "// Max number of bytes which will be uploaded at a time.\n",
              "const MAX_PAYLOAD_SIZE = 100 * 1024;\n",
              "\n",
              "function _uploadFiles(inputId, outputId) {\n",
              "  const steps = uploadFilesStep(inputId, outputId);\n",
              "  const outputElement = document.getElementById(outputId);\n",
              "  // Cache steps on the outputElement to make it available for the next call\n",
              "  // to uploadFilesContinue from Python.\n",
              "  outputElement.steps = steps;\n",
              "\n",
              "  return _uploadFilesContinue(outputId);\n",
              "}\n",
              "\n",
              "// This is roughly an async generator (not supported in the browser yet),\n",
              "// where there are multiple asynchronous steps and the Python side is going\n",
              "// to poll for completion of each step.\n",
              "// This uses a Promise to block the python side on completion of each step,\n",
              "// then passes the result of the previous step as the input to the next step.\n",
              "function _uploadFilesContinue(outputId) {\n",
              "  const outputElement = document.getElementById(outputId);\n",
              "  const steps = outputElement.steps;\n",
              "\n",
              "  const next = steps.next(outputElement.lastPromiseValue);\n",
              "  return Promise.resolve(next.value.promise).then((value) => {\n",
              "    // Cache the last promise value to make it available to the next\n",
              "    // step of the generator.\n",
              "    outputElement.lastPromiseValue = value;\n",
              "    return next.value.response;\n",
              "  });\n",
              "}\n",
              "\n",
              "/**\n",
              " * Generator function which is called between each async step of the upload\n",
              " * process.\n",
              " * @param {string} inputId Element ID of the input file picker element.\n",
              " * @param {string} outputId Element ID of the output display.\n",
              " * @return {!Iterable<!Object>} Iterable of next steps.\n",
              " */\n",
              "function* uploadFilesStep(inputId, outputId) {\n",
              "  const inputElement = document.getElementById(inputId);\n",
              "  inputElement.disabled = false;\n",
              "\n",
              "  const outputElement = document.getElementById(outputId);\n",
              "  outputElement.innerHTML = '';\n",
              "\n",
              "  const pickedPromise = new Promise((resolve) => {\n",
              "    inputElement.addEventListener('change', (e) => {\n",
              "      resolve(e.target.files);\n",
              "    });\n",
              "  });\n",
              "\n",
              "  const cancel = document.createElement('button');\n",
              "  inputElement.parentElement.appendChild(cancel);\n",
              "  cancel.textContent = 'Cancel upload';\n",
              "  const cancelPromise = new Promise((resolve) => {\n",
              "    cancel.onclick = () => {\n",
              "      resolve(null);\n",
              "    };\n",
              "  });\n",
              "\n",
              "  // Wait for the user to pick the files.\n",
              "  const files = yield {\n",
              "    promise: Promise.race([pickedPromise, cancelPromise]),\n",
              "    response: {\n",
              "      action: 'starting',\n",
              "    }\n",
              "  };\n",
              "\n",
              "  cancel.remove();\n",
              "\n",
              "  // Disable the input element since further picks are not allowed.\n",
              "  inputElement.disabled = true;\n",
              "\n",
              "  if (!files) {\n",
              "    return {\n",
              "      response: {\n",
              "        action: 'complete',\n",
              "      }\n",
              "    };\n",
              "  }\n",
              "\n",
              "  for (const file of files) {\n",
              "    const li = document.createElement('li');\n",
              "    li.append(span(file.name, {fontWeight: 'bold'}));\n",
              "    li.append(span(\n",
              "        `(${file.type || 'n/a'}) - ${file.size} bytes, ` +\n",
              "        `last modified: ${\n",
              "            file.lastModifiedDate ? file.lastModifiedDate.toLocaleDateString() :\n",
              "                                    'n/a'} - `));\n",
              "    const percent = span('0% done');\n",
              "    li.appendChild(percent);\n",
              "\n",
              "    outputElement.appendChild(li);\n",
              "\n",
              "    const fileDataPromise = new Promise((resolve) => {\n",
              "      const reader = new FileReader();\n",
              "      reader.onload = (e) => {\n",
              "        resolve(e.target.result);\n",
              "      };\n",
              "      reader.readAsArrayBuffer(file);\n",
              "    });\n",
              "    // Wait for the data to be ready.\n",
              "    let fileData = yield {\n",
              "      promise: fileDataPromise,\n",
              "      response: {\n",
              "        action: 'continue',\n",
              "      }\n",
              "    };\n",
              "\n",
              "    // Use a chunked sending to avoid message size limits. See b/62115660.\n",
              "    let position = 0;\n",
              "    do {\n",
              "      const length = Math.min(fileData.byteLength - position, MAX_PAYLOAD_SIZE);\n",
              "      const chunk = new Uint8Array(fileData, position, length);\n",
              "      position += length;\n",
              "\n",
              "      const base64 = btoa(String.fromCharCode.apply(null, chunk));\n",
              "      yield {\n",
              "        response: {\n",
              "          action: 'append',\n",
              "          file: file.name,\n",
              "          data: base64,\n",
              "        },\n",
              "      };\n",
              "\n",
              "      let percentDone = fileData.byteLength === 0 ?\n",
              "          100 :\n",
              "          Math.round((position / fileData.byteLength) * 100);\n",
              "      percent.textContent = `${percentDone}% done`;\n",
              "\n",
              "    } while (position < fileData.byteLength);\n",
              "  }\n",
              "\n",
              "  // All done.\n",
              "  yield {\n",
              "    response: {\n",
              "      action: 'complete',\n",
              "    }\n",
              "  };\n",
              "}\n",
              "\n",
              "scope.google = scope.google || {};\n",
              "scope.google.colab = scope.google.colab || {};\n",
              "scope.google.colab._files = {\n",
              "  _uploadFiles,\n",
              "  _uploadFilesContinue,\n",
              "};\n",
              "})(self);\n",
              "</script> "
            ]
          },
          "metadata": {}
        },
        {
          "output_type": "stream",
          "name": "stdout",
          "text": [
            "Saving accident_ds.csv to accident_ds.csv\n"
          ]
        }
      ]
    },
    {
      "cell_type": "code",
      "source": [
        "accident_df_raw = pd.read_csv(io.BytesIO(uploaded['accident_ds.csv']))"
      ],
      "metadata": {
        "id": "oV0Ew-JkPMw7"
      },
      "execution_count": null,
      "outputs": []
    },
    {
      "cell_type": "code",
      "source": [
        "accident_df_raw"
      ],
      "metadata": {
        "colab": {
          "base_uri": "https://localhost:8080/",
          "height": 537
        },
        "id": "KOURZ5fX4U0c",
        "outputId": "f1289943-9e85-4ea1-ef7c-1465e26a96ef"
      },
      "execution_count": null,
      "outputs": [
        {
          "output_type": "execute_result",
          "data": {
            "text/plain": [
              "     TAHUN         NEGERI  JUMLAH \\nKMLG  JUMLAH \\nKMLG \\nMAUT  \\\n",
              "0     2011        PERLIS            1791                    73   \n",
              "1     2011         KEDAH           19699                   506   \n",
              "2     2011  PULAU PINANG           37158                   375   \n",
              "3     2011         PERAK           33506                   739   \n",
              "4     2011       SELANGOR         128876                  1015   \n",
              "..     ...            ...            ...                   ...   \n",
              "135   2021         PAHANG           8071                   161   \n",
              "136   2021       KELANTAN           4403                   130   \n",
              "137   2021     TERENGGANU           4539                    93   \n",
              "138   2021          SABAH           7159                    99   \n",
              "139   2021        SARAWAK           7883                   143   \n",
              "\n",
              "     JUMLAH \\nKMLG \\nPARAH  JUMLAH \\nKMLG \\nRINGAN  \\\n",
              "0                      231                     246   \n",
              "1                      499                    1023   \n",
              "2                      160                     320   \n",
              "3                      700                    1267   \n",
              "4                      457                     689   \n",
              "..                     ...                     ...   \n",
              "135                    109                     501   \n",
              "136                     91                     794   \n",
              "137                     71                      87   \n",
              "138                     90                     107   \n",
              "139                     77                     185   \n",
              "\n",
              "     JUMLAH \\nKMLG \\nROSAK \\nSAHAJA  JUMLAH \\nKEMATIAN  \\\n",
              "0                              1241                 79   \n",
              "1                             17671                515   \n",
              "2                             36303                392   \n",
              "3                             30800                811   \n",
              "4                            126715               1070   \n",
              "..                              ...                ...   \n",
              "135                            7300                176   \n",
              "136                            3388                133   \n",
              "137                            4288                106   \n",
              "138                            6863                118   \n",
              "139                            7478                156   \n",
              "\n",
              "     JUMLAH \\nCEDERA \\nPARAH  JUMLAH \\nCEDERA \\nRINGAN  \n",
              "0                        259                       288  \n",
              "1                        608                      1329  \n",
              "2                        197                       380  \n",
              "3                        898                      1631  \n",
              "4                        566                       807  \n",
              "..                       ...                       ...  \n",
              "135                      129                       189  \n",
              "136                      102                       803  \n",
              "137                       80                        89  \n",
              "138                      106                       122  \n",
              "139                       86                       224  \n",
              "\n",
              "[140 rows x 10 columns]"
            ],
            "text/html": [
              "\n",
              "  <div id=\"df-3305f299-f411-4c54-9c6c-a8a6baf5f04d\">\n",
              "    <div class=\"colab-df-container\">\n",
              "      <div>\n",
              "<style scoped>\n",
              "    .dataframe tbody tr th:only-of-type {\n",
              "        vertical-align: middle;\n",
              "    }\n",
              "\n",
              "    .dataframe tbody tr th {\n",
              "        vertical-align: top;\n",
              "    }\n",
              "\n",
              "    .dataframe thead th {\n",
              "        text-align: right;\n",
              "    }\n",
              "</style>\n",
              "<table border=\"1\" class=\"dataframe\">\n",
              "  <thead>\n",
              "    <tr style=\"text-align: right;\">\n",
              "      <th></th>\n",
              "      <th>TAHUN</th>\n",
              "      <th>NEGERI</th>\n",
              "      <th>JUMLAH \\nKMLG</th>\n",
              "      <th>JUMLAH \\nKMLG \\nMAUT</th>\n",
              "      <th>JUMLAH \\nKMLG \\nPARAH</th>\n",
              "      <th>JUMLAH \\nKMLG \\nRINGAN</th>\n",
              "      <th>JUMLAH \\nKMLG \\nROSAK \\nSAHAJA</th>\n",
              "      <th>JUMLAH \\nKEMATIAN</th>\n",
              "      <th>JUMLAH \\nCEDERA \\nPARAH</th>\n",
              "      <th>JUMLAH \\nCEDERA \\nRINGAN</th>\n",
              "    </tr>\n",
              "  </thead>\n",
              "  <tbody>\n",
              "    <tr>\n",
              "      <th>0</th>\n",
              "      <td>2011</td>\n",
              "      <td>PERLIS</td>\n",
              "      <td>1791</td>\n",
              "      <td>73</td>\n",
              "      <td>231</td>\n",
              "      <td>246</td>\n",
              "      <td>1241</td>\n",
              "      <td>79</td>\n",
              "      <td>259</td>\n",
              "      <td>288</td>\n",
              "    </tr>\n",
              "    <tr>\n",
              "      <th>1</th>\n",
              "      <td>2011</td>\n",
              "      <td>KEDAH</td>\n",
              "      <td>19699</td>\n",
              "      <td>506</td>\n",
              "      <td>499</td>\n",
              "      <td>1023</td>\n",
              "      <td>17671</td>\n",
              "      <td>515</td>\n",
              "      <td>608</td>\n",
              "      <td>1329</td>\n",
              "    </tr>\n",
              "    <tr>\n",
              "      <th>2</th>\n",
              "      <td>2011</td>\n",
              "      <td>PULAU PINANG</td>\n",
              "      <td>37158</td>\n",
              "      <td>375</td>\n",
              "      <td>160</td>\n",
              "      <td>320</td>\n",
              "      <td>36303</td>\n",
              "      <td>392</td>\n",
              "      <td>197</td>\n",
              "      <td>380</td>\n",
              "    </tr>\n",
              "    <tr>\n",
              "      <th>3</th>\n",
              "      <td>2011</td>\n",
              "      <td>PERAK</td>\n",
              "      <td>33506</td>\n",
              "      <td>739</td>\n",
              "      <td>700</td>\n",
              "      <td>1267</td>\n",
              "      <td>30800</td>\n",
              "      <td>811</td>\n",
              "      <td>898</td>\n",
              "      <td>1631</td>\n",
              "    </tr>\n",
              "    <tr>\n",
              "      <th>4</th>\n",
              "      <td>2011</td>\n",
              "      <td>SELANGOR</td>\n",
              "      <td>128876</td>\n",
              "      <td>1015</td>\n",
              "      <td>457</td>\n",
              "      <td>689</td>\n",
              "      <td>126715</td>\n",
              "      <td>1070</td>\n",
              "      <td>566</td>\n",
              "      <td>807</td>\n",
              "    </tr>\n",
              "    <tr>\n",
              "      <th>...</th>\n",
              "      <td>...</td>\n",
              "      <td>...</td>\n",
              "      <td>...</td>\n",
              "      <td>...</td>\n",
              "      <td>...</td>\n",
              "      <td>...</td>\n",
              "      <td>...</td>\n",
              "      <td>...</td>\n",
              "      <td>...</td>\n",
              "      <td>...</td>\n",
              "    </tr>\n",
              "    <tr>\n",
              "      <th>135</th>\n",
              "      <td>2021</td>\n",
              "      <td>PAHANG</td>\n",
              "      <td>8071</td>\n",
              "      <td>161</td>\n",
              "      <td>109</td>\n",
              "      <td>501</td>\n",
              "      <td>7300</td>\n",
              "      <td>176</td>\n",
              "      <td>129</td>\n",
              "      <td>189</td>\n",
              "    </tr>\n",
              "    <tr>\n",
              "      <th>136</th>\n",
              "      <td>2021</td>\n",
              "      <td>KELANTAN</td>\n",
              "      <td>4403</td>\n",
              "      <td>130</td>\n",
              "      <td>91</td>\n",
              "      <td>794</td>\n",
              "      <td>3388</td>\n",
              "      <td>133</td>\n",
              "      <td>102</td>\n",
              "      <td>803</td>\n",
              "    </tr>\n",
              "    <tr>\n",
              "      <th>137</th>\n",
              "      <td>2021</td>\n",
              "      <td>TERENGGANU</td>\n",
              "      <td>4539</td>\n",
              "      <td>93</td>\n",
              "      <td>71</td>\n",
              "      <td>87</td>\n",
              "      <td>4288</td>\n",
              "      <td>106</td>\n",
              "      <td>80</td>\n",
              "      <td>89</td>\n",
              "    </tr>\n",
              "    <tr>\n",
              "      <th>138</th>\n",
              "      <td>2021</td>\n",
              "      <td>SABAH</td>\n",
              "      <td>7159</td>\n",
              "      <td>99</td>\n",
              "      <td>90</td>\n",
              "      <td>107</td>\n",
              "      <td>6863</td>\n",
              "      <td>118</td>\n",
              "      <td>106</td>\n",
              "      <td>122</td>\n",
              "    </tr>\n",
              "    <tr>\n",
              "      <th>139</th>\n",
              "      <td>2021</td>\n",
              "      <td>SARAWAK</td>\n",
              "      <td>7883</td>\n",
              "      <td>143</td>\n",
              "      <td>77</td>\n",
              "      <td>185</td>\n",
              "      <td>7478</td>\n",
              "      <td>156</td>\n",
              "      <td>86</td>\n",
              "      <td>224</td>\n",
              "    </tr>\n",
              "  </tbody>\n",
              "</table>\n",
              "<p>140 rows × 10 columns</p>\n",
              "</div>\n",
              "      <button class=\"colab-df-convert\" onclick=\"convertToInteractive('df-3305f299-f411-4c54-9c6c-a8a6baf5f04d')\"\n",
              "              title=\"Convert this dataframe to an interactive table.\"\n",
              "              style=\"display:none;\">\n",
              "        \n",
              "  <svg xmlns=\"http://www.w3.org/2000/svg\" height=\"24px\"viewBox=\"0 0 24 24\"\n",
              "       width=\"24px\">\n",
              "    <path d=\"M0 0h24v24H0V0z\" fill=\"none\"/>\n",
              "    <path d=\"M18.56 5.44l.94 2.06.94-2.06 2.06-.94-2.06-.94-.94-2.06-.94 2.06-2.06.94zm-11 1L8.5 8.5l.94-2.06 2.06-.94-2.06-.94L8.5 2.5l-.94 2.06-2.06.94zm10 10l.94 2.06.94-2.06 2.06-.94-2.06-.94-.94-2.06-.94 2.06-2.06.94z\"/><path d=\"M17.41 7.96l-1.37-1.37c-.4-.4-.92-.59-1.43-.59-.52 0-1.04.2-1.43.59L10.3 9.45l-7.72 7.72c-.78.78-.78 2.05 0 2.83L4 21.41c.39.39.9.59 1.41.59.51 0 1.02-.2 1.41-.59l7.78-7.78 2.81-2.81c.8-.78.8-2.07 0-2.86zM5.41 20L4 18.59l7.72-7.72 1.47 1.35L5.41 20z\"/>\n",
              "  </svg>\n",
              "      </button>\n",
              "      \n",
              "  <style>\n",
              "    .colab-df-container {\n",
              "      display:flex;\n",
              "      flex-wrap:wrap;\n",
              "      gap: 12px;\n",
              "    }\n",
              "\n",
              "    .colab-df-convert {\n",
              "      background-color: #E8F0FE;\n",
              "      border: none;\n",
              "      border-radius: 50%;\n",
              "      cursor: pointer;\n",
              "      display: none;\n",
              "      fill: #1967D2;\n",
              "      height: 32px;\n",
              "      padding: 0 0 0 0;\n",
              "      width: 32px;\n",
              "    }\n",
              "\n",
              "    .colab-df-convert:hover {\n",
              "      background-color: #E2EBFA;\n",
              "      box-shadow: 0px 1px 2px rgba(60, 64, 67, 0.3), 0px 1px 3px 1px rgba(60, 64, 67, 0.15);\n",
              "      fill: #174EA6;\n",
              "    }\n",
              "\n",
              "    [theme=dark] .colab-df-convert {\n",
              "      background-color: #3B4455;\n",
              "      fill: #D2E3FC;\n",
              "    }\n",
              "\n",
              "    [theme=dark] .colab-df-convert:hover {\n",
              "      background-color: #434B5C;\n",
              "      box-shadow: 0px 1px 3px 1px rgba(0, 0, 0, 0.15);\n",
              "      filter: drop-shadow(0px 1px 2px rgba(0, 0, 0, 0.3));\n",
              "      fill: #FFFFFF;\n",
              "    }\n",
              "  </style>\n",
              "\n",
              "      <script>\n",
              "        const buttonEl =\n",
              "          document.querySelector('#df-3305f299-f411-4c54-9c6c-a8a6baf5f04d button.colab-df-convert');\n",
              "        buttonEl.style.display =\n",
              "          google.colab.kernel.accessAllowed ? 'block' : 'none';\n",
              "\n",
              "        async function convertToInteractive(key) {\n",
              "          const element = document.querySelector('#df-3305f299-f411-4c54-9c6c-a8a6baf5f04d');\n",
              "          const dataTable =\n",
              "            await google.colab.kernel.invokeFunction('convertToInteractive',\n",
              "                                                     [key], {});\n",
              "          if (!dataTable) return;\n",
              "\n",
              "          const docLinkHtml = 'Like what you see? Visit the ' +\n",
              "            '<a target=\"_blank\" href=https://colab.research.google.com/notebooks/data_table.ipynb>data table notebook</a>'\n",
              "            + ' to learn more about interactive tables.';\n",
              "          element.innerHTML = '';\n",
              "          dataTable['output_type'] = 'display_data';\n",
              "          await google.colab.output.renderOutput(dataTable, element);\n",
              "          const docLink = document.createElement('div');\n",
              "          docLink.innerHTML = docLinkHtml;\n",
              "          element.appendChild(docLink);\n",
              "        }\n",
              "      </script>\n",
              "    </div>\n",
              "  </div>\n",
              "  "
            ]
          },
          "metadata": {},
          "execution_count": 4
        }
      ]
    },
    {
      "cell_type": "markdown",
      "source": [
        "## Renaming columns"
      ],
      "metadata": {
        "id": "kwlo9PpC4xTb"
      }
    },
    {
      "cell_type": "code",
      "source": [
        "#.rename\n",
        "accident_df = accident_df_raw.rename(\n",
        "        columns = {'TAHUN':'Year'\n",
        "                   ,'NEGERI':'State'\n",
        "                   ,'JUMLAH \\nKMLG':'Total accident'\n",
        "                   ,'JUMLAH \\nKMLG \\nMAUT':'Total death accident'\n",
        "                   ,'JUMLAH \\nKMLG \\nPARAH':'Total critical accident'\n",
        "                   ,'JUMLAH \\nKMLG \\nRINGAN':'Total minor accident'\n",
        "                   ,'JUMLAH \\nKMLG \\nROSAK \\nSAHAJA':'Total damage only accident'\n",
        "                   ,'JUMLAH \\nKEMATIAN':'Total death'\n",
        "                   ,'JUMLAH \\nCEDERA \\nPARAH':'Total minor injury'\n",
        "                   ,'JUMLAH \\nCEDERA \\nRINGAN':'Total major injury'\n",
        "                   }\n",
        "        )\n",
        "accident_df"
      ],
      "metadata": {
        "colab": {
          "base_uri": "https://localhost:8080/",
          "height": 779
        },
        "id": "91yK_SBg5oLy",
        "outputId": "f782ef9c-06f9-43d3-ddd0-39ac93b65ce1"
      },
      "execution_count": null,
      "outputs": [
        {
          "output_type": "execute_result",
          "data": {
            "text/plain": [
              "     Year          State  Total accident  Total death accident  \\\n",
              "0    2011        PERLIS             1791                    73   \n",
              "1    2011         KEDAH            19699                   506   \n",
              "2    2011  PULAU PINANG            37158                   375   \n",
              "3    2011         PERAK            33506                   739   \n",
              "4    2011       SELANGOR          128876                  1015   \n",
              "..    ...            ...             ...                   ...   \n",
              "135  2021         PAHANG            8071                   161   \n",
              "136  2021       KELANTAN            4403                   130   \n",
              "137  2021     TERENGGANU            4539                    93   \n",
              "138  2021          SABAH            7159                    99   \n",
              "139  2021        SARAWAK            7883                   143   \n",
              "\n",
              "     Total critical accident  Total minor accident  \\\n",
              "0                        231                   246   \n",
              "1                        499                  1023   \n",
              "2                        160                   320   \n",
              "3                        700                  1267   \n",
              "4                        457                   689   \n",
              "..                       ...                   ...   \n",
              "135                      109                   501   \n",
              "136                       91                   794   \n",
              "137                       71                    87   \n",
              "138                       90                   107   \n",
              "139                       77                   185   \n",
              "\n",
              "     Total damage only accident  Total death  Total minor injury  \\\n",
              "0                          1241           79                 259   \n",
              "1                         17671          515                 608   \n",
              "2                         36303          392                 197   \n",
              "3                         30800          811                 898   \n",
              "4                        126715         1070                 566   \n",
              "..                          ...          ...                 ...   \n",
              "135                        7300          176                 129   \n",
              "136                        3388          133                 102   \n",
              "137                        4288          106                  80   \n",
              "138                        6863          118                 106   \n",
              "139                        7478          156                  86   \n",
              "\n",
              "     Total major injury  \n",
              "0                   288  \n",
              "1                  1329  \n",
              "2                   380  \n",
              "3                  1631  \n",
              "4                   807  \n",
              "..                  ...  \n",
              "135                 189  \n",
              "136                 803  \n",
              "137                  89  \n",
              "138                 122  \n",
              "139                 224  \n",
              "\n",
              "[140 rows x 10 columns]"
            ],
            "text/html": [
              "\n",
              "  <div id=\"df-2458ff4d-b19f-4015-a6a3-daa907c57b30\">\n",
              "    <div class=\"colab-df-container\">\n",
              "      <div>\n",
              "<style scoped>\n",
              "    .dataframe tbody tr th:only-of-type {\n",
              "        vertical-align: middle;\n",
              "    }\n",
              "\n",
              "    .dataframe tbody tr th {\n",
              "        vertical-align: top;\n",
              "    }\n",
              "\n",
              "    .dataframe thead th {\n",
              "        text-align: right;\n",
              "    }\n",
              "</style>\n",
              "<table border=\"1\" class=\"dataframe\">\n",
              "  <thead>\n",
              "    <tr style=\"text-align: right;\">\n",
              "      <th></th>\n",
              "      <th>Year</th>\n",
              "      <th>State</th>\n",
              "      <th>Total accident</th>\n",
              "      <th>Total death accident</th>\n",
              "      <th>Total critical accident</th>\n",
              "      <th>Total minor accident</th>\n",
              "      <th>Total damage only accident</th>\n",
              "      <th>Total death</th>\n",
              "      <th>Total minor injury</th>\n",
              "      <th>Total major injury</th>\n",
              "    </tr>\n",
              "  </thead>\n",
              "  <tbody>\n",
              "    <tr>\n",
              "      <th>0</th>\n",
              "      <td>2011</td>\n",
              "      <td>PERLIS</td>\n",
              "      <td>1791</td>\n",
              "      <td>73</td>\n",
              "      <td>231</td>\n",
              "      <td>246</td>\n",
              "      <td>1241</td>\n",
              "      <td>79</td>\n",
              "      <td>259</td>\n",
              "      <td>288</td>\n",
              "    </tr>\n",
              "    <tr>\n",
              "      <th>1</th>\n",
              "      <td>2011</td>\n",
              "      <td>KEDAH</td>\n",
              "      <td>19699</td>\n",
              "      <td>506</td>\n",
              "      <td>499</td>\n",
              "      <td>1023</td>\n",
              "      <td>17671</td>\n",
              "      <td>515</td>\n",
              "      <td>608</td>\n",
              "      <td>1329</td>\n",
              "    </tr>\n",
              "    <tr>\n",
              "      <th>2</th>\n",
              "      <td>2011</td>\n",
              "      <td>PULAU PINANG</td>\n",
              "      <td>37158</td>\n",
              "      <td>375</td>\n",
              "      <td>160</td>\n",
              "      <td>320</td>\n",
              "      <td>36303</td>\n",
              "      <td>392</td>\n",
              "      <td>197</td>\n",
              "      <td>380</td>\n",
              "    </tr>\n",
              "    <tr>\n",
              "      <th>3</th>\n",
              "      <td>2011</td>\n",
              "      <td>PERAK</td>\n",
              "      <td>33506</td>\n",
              "      <td>739</td>\n",
              "      <td>700</td>\n",
              "      <td>1267</td>\n",
              "      <td>30800</td>\n",
              "      <td>811</td>\n",
              "      <td>898</td>\n",
              "      <td>1631</td>\n",
              "    </tr>\n",
              "    <tr>\n",
              "      <th>4</th>\n",
              "      <td>2011</td>\n",
              "      <td>SELANGOR</td>\n",
              "      <td>128876</td>\n",
              "      <td>1015</td>\n",
              "      <td>457</td>\n",
              "      <td>689</td>\n",
              "      <td>126715</td>\n",
              "      <td>1070</td>\n",
              "      <td>566</td>\n",
              "      <td>807</td>\n",
              "    </tr>\n",
              "    <tr>\n",
              "      <th>...</th>\n",
              "      <td>...</td>\n",
              "      <td>...</td>\n",
              "      <td>...</td>\n",
              "      <td>...</td>\n",
              "      <td>...</td>\n",
              "      <td>...</td>\n",
              "      <td>...</td>\n",
              "      <td>...</td>\n",
              "      <td>...</td>\n",
              "      <td>...</td>\n",
              "    </tr>\n",
              "    <tr>\n",
              "      <th>135</th>\n",
              "      <td>2021</td>\n",
              "      <td>PAHANG</td>\n",
              "      <td>8071</td>\n",
              "      <td>161</td>\n",
              "      <td>109</td>\n",
              "      <td>501</td>\n",
              "      <td>7300</td>\n",
              "      <td>176</td>\n",
              "      <td>129</td>\n",
              "      <td>189</td>\n",
              "    </tr>\n",
              "    <tr>\n",
              "      <th>136</th>\n",
              "      <td>2021</td>\n",
              "      <td>KELANTAN</td>\n",
              "      <td>4403</td>\n",
              "      <td>130</td>\n",
              "      <td>91</td>\n",
              "      <td>794</td>\n",
              "      <td>3388</td>\n",
              "      <td>133</td>\n",
              "      <td>102</td>\n",
              "      <td>803</td>\n",
              "    </tr>\n",
              "    <tr>\n",
              "      <th>137</th>\n",
              "      <td>2021</td>\n",
              "      <td>TERENGGANU</td>\n",
              "      <td>4539</td>\n",
              "      <td>93</td>\n",
              "      <td>71</td>\n",
              "      <td>87</td>\n",
              "      <td>4288</td>\n",
              "      <td>106</td>\n",
              "      <td>80</td>\n",
              "      <td>89</td>\n",
              "    </tr>\n",
              "    <tr>\n",
              "      <th>138</th>\n",
              "      <td>2021</td>\n",
              "      <td>SABAH</td>\n",
              "      <td>7159</td>\n",
              "      <td>99</td>\n",
              "      <td>90</td>\n",
              "      <td>107</td>\n",
              "      <td>6863</td>\n",
              "      <td>118</td>\n",
              "      <td>106</td>\n",
              "      <td>122</td>\n",
              "    </tr>\n",
              "    <tr>\n",
              "      <th>139</th>\n",
              "      <td>2021</td>\n",
              "      <td>SARAWAK</td>\n",
              "      <td>7883</td>\n",
              "      <td>143</td>\n",
              "      <td>77</td>\n",
              "      <td>185</td>\n",
              "      <td>7478</td>\n",
              "      <td>156</td>\n",
              "      <td>86</td>\n",
              "      <td>224</td>\n",
              "    </tr>\n",
              "  </tbody>\n",
              "</table>\n",
              "<p>140 rows × 10 columns</p>\n",
              "</div>\n",
              "      <button class=\"colab-df-convert\" onclick=\"convertToInteractive('df-2458ff4d-b19f-4015-a6a3-daa907c57b30')\"\n",
              "              title=\"Convert this dataframe to an interactive table.\"\n",
              "              style=\"display:none;\">\n",
              "        \n",
              "  <svg xmlns=\"http://www.w3.org/2000/svg\" height=\"24px\"viewBox=\"0 0 24 24\"\n",
              "       width=\"24px\">\n",
              "    <path d=\"M0 0h24v24H0V0z\" fill=\"none\"/>\n",
              "    <path d=\"M18.56 5.44l.94 2.06.94-2.06 2.06-.94-2.06-.94-.94-2.06-.94 2.06-2.06.94zm-11 1L8.5 8.5l.94-2.06 2.06-.94-2.06-.94L8.5 2.5l-.94 2.06-2.06.94zm10 10l.94 2.06.94-2.06 2.06-.94-2.06-.94-.94-2.06-.94 2.06-2.06.94z\"/><path d=\"M17.41 7.96l-1.37-1.37c-.4-.4-.92-.59-1.43-.59-.52 0-1.04.2-1.43.59L10.3 9.45l-7.72 7.72c-.78.78-.78 2.05 0 2.83L4 21.41c.39.39.9.59 1.41.59.51 0 1.02-.2 1.41-.59l7.78-7.78 2.81-2.81c.8-.78.8-2.07 0-2.86zM5.41 20L4 18.59l7.72-7.72 1.47 1.35L5.41 20z\"/>\n",
              "  </svg>\n",
              "      </button>\n",
              "      \n",
              "  <style>\n",
              "    .colab-df-container {\n",
              "      display:flex;\n",
              "      flex-wrap:wrap;\n",
              "      gap: 12px;\n",
              "    }\n",
              "\n",
              "    .colab-df-convert {\n",
              "      background-color: #E8F0FE;\n",
              "      border: none;\n",
              "      border-radius: 50%;\n",
              "      cursor: pointer;\n",
              "      display: none;\n",
              "      fill: #1967D2;\n",
              "      height: 32px;\n",
              "      padding: 0 0 0 0;\n",
              "      width: 32px;\n",
              "    }\n",
              "\n",
              "    .colab-df-convert:hover {\n",
              "      background-color: #E2EBFA;\n",
              "      box-shadow: 0px 1px 2px rgba(60, 64, 67, 0.3), 0px 1px 3px 1px rgba(60, 64, 67, 0.15);\n",
              "      fill: #174EA6;\n",
              "    }\n",
              "\n",
              "    [theme=dark] .colab-df-convert {\n",
              "      background-color: #3B4455;\n",
              "      fill: #D2E3FC;\n",
              "    }\n",
              "\n",
              "    [theme=dark] .colab-df-convert:hover {\n",
              "      background-color: #434B5C;\n",
              "      box-shadow: 0px 1px 3px 1px rgba(0, 0, 0, 0.15);\n",
              "      filter: drop-shadow(0px 1px 2px rgba(0, 0, 0, 0.3));\n",
              "      fill: #FFFFFF;\n",
              "    }\n",
              "  </style>\n",
              "\n",
              "      <script>\n",
              "        const buttonEl =\n",
              "          document.querySelector('#df-2458ff4d-b19f-4015-a6a3-daa907c57b30 button.colab-df-convert');\n",
              "        buttonEl.style.display =\n",
              "          google.colab.kernel.accessAllowed ? 'block' : 'none';\n",
              "\n",
              "        async function convertToInteractive(key) {\n",
              "          const element = document.querySelector('#df-2458ff4d-b19f-4015-a6a3-daa907c57b30');\n",
              "          const dataTable =\n",
              "            await google.colab.kernel.invokeFunction('convertToInteractive',\n",
              "                                                     [key], {});\n",
              "          if (!dataTable) return;\n",
              "\n",
              "          const docLinkHtml = 'Like what you see? Visit the ' +\n",
              "            '<a target=\"_blank\" href=https://colab.research.google.com/notebooks/data_table.ipynb>data table notebook</a>'\n",
              "            + ' to learn more about interactive tables.';\n",
              "          element.innerHTML = '';\n",
              "          dataTable['output_type'] = 'display_data';\n",
              "          await google.colab.output.renderOutput(dataTable, element);\n",
              "          const docLink = document.createElement('div');\n",
              "          docLink.innerHTML = docLinkHtml;\n",
              "          element.appendChild(docLink);\n",
              "        }\n",
              "      </script>\n",
              "    </div>\n",
              "  </div>\n",
              "  "
            ]
          },
          "metadata": {},
          "execution_count": 5
        }
      ]
    },
    {
      "cell_type": "markdown",
      "source": [
        "## Algorithm production"
      ],
      "metadata": {
        "id": "jW5-GrtI8huR"
      }
    },
    {
      "cell_type": "markdown",
      "source": [
        "### Choosing columns to use\n",
        "\n",
        "all columns will be used"
      ],
      "metadata": {
        "id": "3ao7S_Xv9Af5"
      }
    },
    {
      "cell_type": "code",
      "source": [
        "#Choosing all columns for SELANGOR only for the prediction process\n",
        "X = accident_df[accident_df['State']=='SELANGOR']\n",
        "y = X[[\"Year\",\"Total death\"]]\n",
        "X = X.iloc[:,:-3].values\n",
        "y = y.iloc[:,1].values\n",
        "y"
      ],
      "metadata": {
        "id": "gbqRnQ34KKtX",
        "colab": {
          "base_uri": "https://localhost:8080/"
        },
        "outputId": "90681220-1547-4c45-89ec-d2ec27321820"
      },
      "execution_count": null,
      "outputs": [
        {
          "output_type": "execute_result",
          "data": {
            "text/plain": [
              "array([1070, 1102, 1019, 1068, 1028, 1087, 1046, 1054,  805,  436])"
            ]
          },
          "metadata": {},
          "execution_count": 64
        }
      ]
    },
    {
      "cell_type": "code",
      "source": [
        "sns.heatmap(accident_df.corr())"
      ],
      "metadata": {
        "colab": {
          "base_uri": "https://localhost:8080/",
          "height": 685
        },
        "id": "NS0Bj3J1OSVW",
        "outputId": "011987ef-9ba9-4eca-a7fc-a29845723bb5"
      },
      "execution_count": null,
      "outputs": [
        {
          "output_type": "stream",
          "name": "stderr",
          "text": [
            "<ipython-input-53-4b6503724e52>:1: FutureWarning: The default value of numeric_only in DataFrame.corr is deprecated. In a future version, it will default to False. Select only valid columns or specify the value of numeric_only to silence this warning.\n",
            "  sns.heatmap(accident_df.corr())\n"
          ]
        },
        {
          "output_type": "execute_result",
          "data": {
            "text/plain": [
              "<Axes: >"
            ]
          },
          "metadata": {},
          "execution_count": 53
        },
        {
          "output_type": "display_data",
          "data": {
            "text/plain": [
              "<Figure size 640x480 with 2 Axes>"
            ],
            "image/png": "[encoded data removed]"
          },
          "metadata": {}
        }
      ]
    },
    {
      "cell_type": "markdown",
      "source": [
        "## Turning State column into readable numeric form"
      ],
      "metadata": {
        "id": "5FnSuGatb6J4"
      }
    },
    {
      "cell_type": "code",
      "source": [
        "from sklearn.preprocessing import LabelEncoder, OneHotEncoder\n",
        "from sklearn.compose import ColumnTransformer \n",
        "\n",
        "labelencoder = LabelEncoder()\n",
        "X[:,1] = labelencoder.fit_transform(X[:,1])\n",
        "X"
      ],
      "metadata": {
        "colab": {
          "base_uri": "https://localhost:8080/"
        },
        "id": "C4wnhM5qO8DX",
        "outputId": "245638b2-bb5c-4c96-8bb4-cf09f23f6d8c"
      },
      "execution_count": null,
      "outputs": [
        {
          "output_type": "execute_result",
          "data": {
            "text/plain": [
              "array([[2011, 0, 128876, 1015, 457, 689, 126715],\n",
              "       [2012, 0, 129106, 1053, 408, 693, 126952],\n",
              "       [2013, 0, 135024, 964, 164, 356, 133540],\n",
              "       [2014, 0, 137809, 1027, 194, 301, 136287],\n",
              "       [2015, 0, 140957, 975, 190, 187, 139605],\n",
              "       [2017, 0, 154958, 1047, 239, 147, 153525],\n",
              "       [2018, 0, 163078, 1004, 242, 188, 161644],\n",
              "       [2019, 0, 168222, 1008, 353, 447, 166414],\n",
              "       [2020, 0, 123230, 764, 411, 1973, 120082],\n",
              "       [2021, 0, 60370, 367, 308, 954, 58688]], dtype=object)"
            ]
          },
          "metadata": {},
          "execution_count": 65
        }
      ]
    },
    {
      "cell_type": "markdown",
      "source": [
        "## Creating Linear Regression model"
      ],
      "metadata": {
        "id": "Q3RgE-PDUoLE"
      }
    },
    {
      "cell_type": "markdown",
      "source": [
        "### Splitting data into training and testing data"
      ],
      "metadata": {
        "id": "exvniELRY20t"
      }
    },
    {
      "cell_type": "code",
      "source": [
        "#from sqlalchemy import false\n",
        "#from sklearn.model_selection import train_test_split\n",
        "#X_trainLR, X_testLR, y_trainLR, y_testLR = train_test_split(X, y, test_size = 0.2, random_state = 0, shuffle=false)\n",
        "#X_trainLR\n",
        "import numpy as np\n",
        "X_split = np.array(X)\n",
        "y_split = np.array(y)\n",
        "X_traintestsplit = np.split(X_split, [8])\n",
        "y_traintestsplit = np.split(y_split, [8])\n",
        "X_trainLR = X_traintestsplit[0]\n",
        "X_testLR = X_traintestsplit[1]\n",
        "y_trainLR = y_traintestsplit[0]\n",
        "y_testLR = y_traintestsplit[1]\n",
        "y_testLR"
      ],
      "metadata": {
        "id": "gLu74_hyYb5u",
        "colab": {
          "base_uri": "https://localhost:8080/"
        },
        "outputId": "ecce03bb-c727-4a0f-e8e8-bf0b0f748cba"
      },
      "execution_count": null,
      "outputs": [
        {
          "output_type": "execute_result",
          "data": {
            "text/plain": [
              "array([805, 436])"
            ]
          },
          "metadata": {},
          "execution_count": 84
        }
      ]
    },
    {
      "cell_type": "markdown",
      "source": [
        "### Fitting model"
      ],
      "metadata": {
        "id": "P1YLmvmvad2W"
      }
    },
    {
      "cell_type": "code",
      "source": [
        "from sklearn.linear_model import LinearRegression\n",
        "regressor = LinearRegression()\n",
        "regressor.fit(X_trainLR, y_trainLR)"
      ],
      "metadata": {
        "colab": {
          "base_uri": "https://localhost:8080/",
          "height": 75
        },
        "id": "g18kRgaLZrdu",
        "outputId": "a5025cec-0a2b-4f5a-a202-44366c5f35d8"
      },
      "execution_count": null,
      "outputs": [
        {
          "output_type": "execute_result",
          "data": {
            "text/plain": [
              "LinearRegression()"
            ],
            "text/html": [
              "<style>#sk-container-id-3 {color: black;background-color: white;}#sk-container-id-3 pre{padding: 0;}#sk-container-id-3 div.sk-toggleable {background-color: white;}#sk-container-id-3 label.sk-toggleable__label {cursor: pointer;display: block;width: 100%;margin-bottom: 0;padding: 0.3em;box-sizing: border-box;text-align: center;}#sk-container-id-3 label.sk-toggleable__label-arrow:before {content: \"▸\";float: left;margin-right: 0.25em;color: #696969;}#sk-container-id-3 label.sk-toggleable__label-arrow:hover:before {color: black;}#sk-container-id-3 div.sk-estimator:hover label.sk-toggleable__label-arrow:before {color: black;}#sk-container-id-3 div.sk-toggleable__content {max-height: 0;max-width: 0;overflow: hidden;text-align: left;background-color: #f0f8ff;}#sk-container-id-3 div.sk-toggleable__content pre {margin: 0.2em;color: black;border-radius: 0.25em;background-color: #f0f8ff;}#sk-container-id-3 input.sk-toggleable__control:checked~div.sk-toggleable__content {max-height: 200px;max-width: 100%;overflow: auto;}#sk-container-id-3 input.sk-toggleable__control:checked~label.sk-toggleable__label-arrow:before {content: \"▾\";}#sk-container-id-3 div.sk-estimator input.sk-toggleable__control:checked~label.sk-toggleable__label {background-color: #d4ebff;}#sk-container-id-3 div.sk-label input.sk-toggleable__control:checked~label.sk-toggleable__label {background-color: #d4ebff;}#sk-container-id-3 input.sk-hidden--visually {border: 0;clip: rect(1px 1px 1px 1px);clip: rect(1px, 1px, 1px, 1px);height: 1px;margin: -1px;overflow: hidden;padding: 0;position: absolute;width: 1px;}#sk-container-id-3 div.sk-estimator {font-family: monospace;background-color: #f0f8ff;border: 1px dotted black;border-radius: 0.25em;box-sizing: border-box;margin-bottom: 0.5em;}#sk-container-id-3 div.sk-estimator:hover {background-color: #d4ebff;}#sk-container-id-3 div.sk-parallel-item::after {content: \"\";width: 100%;border-bottom: 1px solid gray;flex-grow: 1;}#sk-container-id-3 div.sk-label:hover label.sk-toggleable__label {background-color: #d4ebff;}#sk-container-id-3 div.sk-serial::before {content: \"\";position: absolute;border-left: 1px solid gray;box-sizing: border-box;top: 0;bottom: 0;left: 50%;z-index: 0;}#sk-container-id-3 div.sk-serial {display: flex;flex-direction: column;align-items: center;background-color: white;padding-right: 0.2em;padding-left: 0.2em;position: relative;}#sk-container-id-3 div.sk-item {position: relative;z-index: 1;}#sk-container-id-3 div.sk-parallel {display: flex;align-items: stretch;justify-content: center;background-color: white;position: relative;}#sk-container-id-3 div.sk-item::before, #sk-container-id-3 div.sk-parallel-item::before {content: \"\";position: absolute;border-left: 1px solid gray;box-sizing: border-box;top: 0;bottom: 0;left: 50%;z-index: -1;}#sk-container-id-3 div.sk-parallel-item {display: flex;flex-direction: column;z-index: 1;position: relative;background-color: white;}#sk-container-id-3 div.sk-parallel-item:first-child::after {align-self: flex-end;width: 50%;}#sk-container-id-3 div.sk-parallel-item:last-child::after {align-self: flex-start;width: 50%;}#sk-container-id-3 div.sk-parallel-item:only-child::after {width: 0;}#sk-container-id-3 div.sk-dashed-wrapped {border: 1px dashed gray;margin: 0 0.4em 0.5em 0.4em;box-sizing: border-box;padding-bottom: 0.4em;background-color: white;}#sk-container-id-3 div.sk-label label {font-family: monospace;font-weight: bold;display: inline-block;line-height: 1.2em;}#sk-container-id-3 div.sk-label-container {text-align: center;}#sk-container-id-3 div.sk-container {/* jupyter's `normalize.less` sets `[hidden] { display: none; }` but bootstrap.min.css set `[hidden] { display: none !important; }` so we also need the `!important` here to be able to override the default hidden behavior on the sphinx rendered scikit-learn.org. See: https://github.com/scikit-learn/scikit-learn/issues/21755 */display: inline-block !important;position: relative;}#sk-container-id-3 div.sk-text-repr-fallback {display: none;}</style><div id=\"sk-container-id-3\" class=\"sk-top-container\"><div class=\"sk-text-repr-fallback\"><pre>LinearRegression()</pre><b>In a Jupyter environment, please rerun this cell to show the HTML representation or trust the notebook. <br />On GitHub, the HTML representation is unable to render, please try loading this page with nbviewer.org.</b></div><div class=\"sk-container\" hidden><div class=\"sk-item\"><div class=\"sk-estimator sk-toggleable\"><input class=\"sk-toggleable__control sk-hidden--visually\" id=\"sk-estimator-id-5\" type=\"checkbox\" checked><label for=\"sk-estimator-id-5\" class=\"sk-toggleable__label sk-toggleable__label-arrow\">LinearRegression</label><div class=\"sk-toggleable__content\"><pre>LinearRegression()</pre></div></div></div></div></div>"
            ]
          },
          "metadata": {},
          "execution_count": 85
        }
      ]
    },
    {
      "cell_type": "code",
      "source": [
        "y_predLR = regressor.predict(X_testLR)\n",
        "y_predLR"
      ],
      "metadata": {
        "colab": {
          "base_uri": "https://localhost:8080/"
        },
        "id": "P30XExxLaAV1",
        "outputId": "950f5cfa-c7bc-4a56-e2af-9bf84fb30cb3"
      },
      "execution_count": null,
      "outputs": [
        {
          "output_type": "execute_result",
          "data": {
            "text/plain": [
              "array([884.09976209, 604.93121502])"
            ]
          },
          "metadata": {},
          "execution_count": 86
        }
      ]
    },
    {
      "cell_type": "markdown",
      "source": [
        "### Checking the coeffecient and intercept created from model\n",
        "-> Y = mx + c"
      ],
      "metadata": {
        "id": "T35JaMcqbJL1"
      }
    },
    {
      "cell_type": "code",
      "source": [
        "regressor.coef_"
      ],
      "metadata": {
        "colab": {
          "base_uri": "https://localhost:8080/"
        },
        "id": "2G7UWfSLaPg1",
        "outputId": "aeed8576-4fc0-4eab-f306-09a0e2f0280f"
      },
      "execution_count": null,
      "outputs": [
        {
          "output_type": "execute_result",
          "data": {
            "text/plain": [
              "array([ 2.03210660e+00, -3.82174544e-13,  1.70883631e-01,  6.44033577e-01,\n",
              "       -1.29142223e-01, -1.72539727e-01, -1.71467995e-01])"
            ]
          },
          "metadata": {},
          "execution_count": 87
        }
      ]
    },
    {
      "cell_type": "code",
      "source": [
        "regressor.intercept_"
      ],
      "metadata": {
        "colab": {
          "base_uri": "https://localhost:8080/"
        },
        "id": "_MdhmS2FaWJu",
        "outputId": "063ad4c7-d29c-4871-8def-9defb7e3fa80"
      },
      "execution_count": null,
      "outputs": [
        {
          "output_type": "execute_result",
          "data": {
            "text/plain": [
              "-3787.0689516627426"
            ]
          },
          "metadata": {},
          "execution_count": 88
        }
      ]
    },
    {
      "cell_type": "markdown",
      "source": [
        "### R squared score\n",
        "If score is higher than 90%, then this proves that the model generated is a good model and can most possibly be used to continue prediction"
      ],
      "metadata": {
        "id": "3sgwuvleax2m"
      }
    },
    {
      "cell_type": "code",
      "source": [
        "from sklearn.metrics import r2_score\n",
        "r2_score(y_testLR, y_predLR)"
      ],
      "metadata": {
        "colab": {
          "base_uri": "https://localhost:8080/"
        },
        "id": "0vgpUw5QabNm",
        "outputId": "58901220-44ee-4b61-a06d-22e317b17561"
      },
      "execution_count": null,
      "outputs": [
        {
          "output_type": "execute_result",
          "data": {
            "text/plain": [
              "0.4889207956709637"
            ]
          },
          "metadata": {},
          "execution_count": 89
        }
      ]
    },
    {
      "cell_type": "markdown",
      "source": [
        "## Creating using SVM Regression model"
      ],
      "metadata": {
        "id": "9uREzKIePrOM"
      }
    },
    {
      "cell_type": "markdown",
      "source": [
        "### Splitting training and testing"
      ],
      "metadata": {
        "id": "ReLDw69TVrwj"
      }
    },
    {
      "cell_type": "code",
      "source": [
        "X_split = np.array(X)\n",
        "y_split = np.array(y)\n",
        "X_traintestsplit = np.split(X_split, [8])\n",
        "y_traintestsplit = np.split(y_split, [8])\n",
        "X_trainSVR = X_traintestsplit[0]\n",
        "X_testSVR = X_traintestsplit[1]\n",
        "y_trainSVR = y_traintestsplit[0]\n",
        "y_testSVR = y_traintestsplit[1]\n",
        "y_testSVR"
      ],
      "metadata": {
        "colab": {
          "base_uri": "https://localhost:8080/"
        },
        "id": "TPqYCuytVwVs",
        "outputId": "0109e6bd-79c0-4a69-83bb-9f7815927511"
      },
      "execution_count": null,
      "outputs": [
        {
          "output_type": "execute_result",
          "data": {
            "text/plain": [
              "array([805, 436])"
            ]
          },
          "metadata": {},
          "execution_count": 90
        }
      ]
    },
    {
      "cell_type": "code",
      "source": [
        "from sklearn.svm import SVR\n",
        "from sklearn.pipeline import make_pipeline\n",
        "from sklearn.preprocessing import StandardScaler\n",
        "svr = make_pipeline(StandardScaler(), SVR(C=1.0, epsilon=0.2))\n",
        "svr.fit(X_trainSVR, y_trainSVR)"
      ],
      "metadata": {
        "colab": {
          "base_uri": "https://localhost:8080/",
          "height": 127
        },
        "id": "My5MxsJ6S-_E",
        "outputId": "0ccb9224-c087-45f3-aab3-04757a0d52a9"
      },
      "execution_count": null,
      "outputs": [
        {
          "output_type": "execute_result",
          "data": {
            "text/plain": [
              "Pipeline(steps=[('standardscaler', StandardScaler()),\n",
              "                ('svr', SVR(epsilon=0.2))])"
            ],
            "text/html": [
              "<style>#sk-container-id-4 {color: black;background-color: white;}#sk-container-id-4 pre{padding: 0;}#sk-container-id-4 div.sk-toggleable {background-color: white;}#sk-container-id-4 label.sk-toggleable__label {cursor: pointer;display: block;width: 100%;margin-bottom: 0;padding: 0.3em;box-sizing: border-box;text-align: center;}#sk-container-id-4 label.sk-toggleable__label-arrow:before {content: \"▸\";float: left;margin-right: 0.25em;color: #696969;}#sk-container-id-4 label.sk-toggleable__label-arrow:hover:before {color: black;}#sk-container-id-4 div.sk-estimator:hover label.sk-toggleable__label-arrow:before {color: black;}#sk-container-id-4 div.sk-toggleable__content {max-height: 0;max-width: 0;overflow: hidden;text-align: left;background-color: #f0f8ff;}#sk-container-id-4 div.sk-toggleable__content pre {margin: 0.2em;color: black;border-radius: 0.25em;background-color: #f0f8ff;}#sk-container-id-4 input.sk-toggleable__control:checked~div.sk-toggleable__content {max-height: 200px;max-width: 100%;overflow: auto;}#sk-container-id-4 input.sk-toggleable__control:checked~label.sk-toggleable__label-arrow:before {content: \"▾\";}#sk-container-id-4 div.sk-estimator input.sk-toggleable__control:checked~label.sk-toggleable__label {background-color: #d4ebff;}#sk-container-id-4 div.sk-label input.sk-toggleable__control:checked~label.sk-toggleable__label {background-color: #d4ebff;}#sk-container-id-4 input.sk-hidden--visually {border: 0;clip: rect(1px 1px 1px 1px);clip: rect(1px, 1px, 1px, 1px);height: 1px;margin: -1px;overflow: hidden;padding: 0;position: absolute;width: 1px;}#sk-container-id-4 div.sk-estimator {font-family: monospace;background-color: #f0f8ff;border: 1px dotted black;border-radius: 0.25em;box-sizing: border-box;margin-bottom: 0.5em;}#sk-container-id-4 div.sk-estimator:hover {background-color: #d4ebff;}#sk-container-id-4 div.sk-parallel-item::after {content: \"\";width: 100%;border-bottom: 1px solid gray;flex-grow: 1;}#sk-container-id-4 div.sk-label:hover label.sk-toggleable__label {background-color: #d4ebff;}#sk-container-id-4 div.sk-serial::before {content: \"\";position: absolute;border-left: 1px solid gray;box-sizing: border-box;top: 0;bottom: 0;left: 50%;z-index: 0;}#sk-container-id-4 div.sk-serial {display: flex;flex-direction: column;align-items: center;background-color: white;padding-right: 0.2em;padding-left: 0.2em;position: relative;}#sk-container-id-4 div.sk-item {position: relative;z-index: 1;}#sk-container-id-4 div.sk-parallel {display: flex;align-items: stretch;justify-content: center;background-color: white;position: relative;}#sk-container-id-4 div.sk-item::before, #sk-container-id-4 div.sk-parallel-item::before {content: \"\";position: absolute;border-left: 1px solid gray;box-sizing: border-box;top: 0;bottom: 0;left: 50%;z-index: -1;}#sk-container-id-4 div.sk-parallel-item {display: flex;flex-direction: column;z-index: 1;position: relative;background-color: white;}#sk-container-id-4 div.sk-parallel-item:first-child::after {align-self: flex-end;width: 50%;}#sk-container-id-4 div.sk-parallel-item:last-child::after {align-self: flex-start;width: 50%;}#sk-container-id-4 div.sk-parallel-item:only-child::after {width: 0;}#sk-container-id-4 div.sk-dashed-wrapped {border: 1px dashed gray;margin: 0 0.4em 0.5em 0.4em;box-sizing: border-box;padding-bottom: 0.4em;background-color: white;}#sk-container-id-4 div.sk-label label {font-family: monospace;font-weight: bold;display: inline-block;line-height: 1.2em;}#sk-container-id-4 div.sk-label-container {text-align: center;}#sk-container-id-4 div.sk-container {/* jupyter's `normalize.less` sets `[hidden] { display: none; }` but bootstrap.min.css set `[hidden] { display: none !important; }` so we also need the `!important` here to be able to override the default hidden behavior on the sphinx rendered scikit-learn.org. See: https://github.com/scikit-learn/scikit-learn/issues/21755 */display: inline-block !important;position: relative;}#sk-container-id-4 div.sk-text-repr-fallback {display: none;}</style><div id=\"sk-container-id-4\" class=\"sk-top-container\"><div class=\"sk-text-repr-fallback\"><pre>Pipeline(steps=[(&#x27;standardscaler&#x27;, StandardScaler()),\n",
              "                (&#x27;svr&#x27;, SVR(epsilon=0.2))])</pre><b>In a Jupyter environment, please rerun this cell to show the HTML representation or trust the notebook. <br />On GitHub, the HTML representation is unable to render, please try loading this page with nbviewer.org.</b></div><div class=\"sk-container\" hidden><div class=\"sk-item sk-dashed-wrapped\"><div class=\"sk-label-container\"><div class=\"sk-label sk-toggleable\"><input class=\"sk-toggleable__control sk-hidden--visually\" id=\"sk-estimator-id-6\" type=\"checkbox\" ><label for=\"sk-estimator-id-6\" class=\"sk-toggleable__label sk-toggleable__label-arrow\">Pipeline</label><div class=\"sk-toggleable__content\"><pre>Pipeline(steps=[(&#x27;standardscaler&#x27;, StandardScaler()),\n",
              "                (&#x27;svr&#x27;, SVR(epsilon=0.2))])</pre></div></div></div><div class=\"sk-serial\"><div class=\"sk-item\"><div class=\"sk-estimator sk-toggleable\"><input class=\"sk-toggleable__control sk-hidden--visually\" id=\"sk-estimator-id-7\" type=\"checkbox\" ><label for=\"sk-estimator-id-7\" class=\"sk-toggleable__label sk-toggleable__label-arrow\">StandardScaler</label><div class=\"sk-toggleable__content\"><pre>StandardScaler()</pre></div></div></div><div class=\"sk-item\"><div class=\"sk-estimator sk-toggleable\"><input class=\"sk-toggleable__control sk-hidden--visually\" id=\"sk-estimator-id-8\" type=\"checkbox\" ><label for=\"sk-estimator-id-8\" class=\"sk-toggleable__label sk-toggleable__label-arrow\">SVR</label><div class=\"sk-toggleable__content\"><pre>SVR(epsilon=0.2)</pre></div></div></div></div></div></div></div>"
            ]
          },
          "metadata": {},
          "execution_count": 91
        }
      ]
    },
    {
      "cell_type": "code",
      "source": [
        "y_predSVR = svr.predict(X_testSVR)\n",
        "y_predSVR"
      ],
      "metadata": {
        "colab": {
          "base_uri": "https://localhost:8080/"
        },
        "id": "n5gqsTIyTr6-",
        "outputId": "3ed7fe1a-69af-490b-89b5-96059ecaa6e3"
      },
      "execution_count": null,
      "outputs": [
        {
          "output_type": "execute_result",
          "data": {
            "text/plain": [
              "array([1061.42111082, 1061.42111082])"
            ]
          },
          "metadata": {},
          "execution_count": 92
        }
      ]
    },
    {
      "cell_type": "code",
      "source": [
        "r2_score(y_testSVR, y_predSVR)"
      ],
      "metadata": {
        "colab": {
          "base_uri": "https://localhost:8080/"
        },
        "id": "UDh-IPbVUWkv",
        "outputId": "49e380ff-a2ca-443c-c5fe-67de86fa75e1"
      },
      "execution_count": null,
      "outputs": [
        {
          "output_type": "execute_result",
          "data": {
            "text/plain": [
              "-5.711222037528995"
            ]
          },
          "metadata": {},
          "execution_count": 93
        }
      ]
    },
    {
      "cell_type": "code",
      "source": [
        "y_testSVR"
      ],
      "metadata": {
        "colab": {
          "base_uri": "https://localhost:8080/"
        },
        "id": "tYDFpF6fWJP2",
        "outputId": "31ca1405-d0e9-4302-b636-88a44fd1809e"
      },
      "execution_count": null,
      "outputs": [
        {
          "output_type": "execute_result",
          "data": {
            "text/plain": [
              "array([805, 436])"
            ]
          },
          "metadata": {},
          "execution_count": 94
        }
      ]
    },
    {
      "cell_type": "markdown",
      "source": [
        "## Creating using Neural Network with Regression"
      ],
      "metadata": {
        "id": "tBsUiq14XJvU"
      }
    },
    {
      "cell_type": "markdown",
      "source": [
        "### Splitting training and testing data"
      ],
      "metadata": {
        "id": "EcdrWJCEXTC8"
      }
    },
    {
      "cell_type": "code",
      "source": [
        "X_split = np.array(X)\n",
        "y_split = np.array(y)\n",
        "X_traintestsplit = np.split(X_split, [8])\n",
        "y_traintestsplit = np.split(y_split, [8])\n",
        "X_trainNN = X_traintestsplit[0]\n",
        "X_testNN = X_traintestsplit[1]\n",
        "y_trainNN = y_traintestsplit[0]\n",
        "y_testNN = y_traintestsplit[1]\n",
        "y_testNN"
      ],
      "metadata": {
        "colab": {
          "base_uri": "https://localhost:8080/"
        },
        "id": "gZr2V6-QXRfc",
        "outputId": "28a3b271-13f1-47c4-add7-04b7ae3fa289"
      },
      "execution_count": null,
      "outputs": [
        {
          "output_type": "execute_result",
          "data": {
            "text/plain": [
              "array([805, 436])"
            ]
          },
          "metadata": {},
          "execution_count": 95
        }
      ]
    },
    {
      "cell_type": "markdown",
      "source": [
        "### Training and Testing model"
      ],
      "metadata": {
        "id": "iVQd7qWdXic1"
      }
    },
    {
      "cell_type": "code",
      "source": [
        "from sklearn.neural_network import MLPRegressor\n",
        "nn = MLPRegressor(random_state=0, max_iter=500).fit(X_trainNN, y_trainNN)"
      ],
      "metadata": {
        "id": "YZ4CEGWaXnQ0"
      },
      "execution_count": null,
      "outputs": []
    },
    {
      "cell_type": "code",
      "source": [
        "y_predNN = nn.predict(X_testNN[:])\n",
        "y_predNN"
      ],
      "metadata": {
        "colab": {
          "base_uri": "https://localhost:8080/"
        },
        "id": "GuiFSXTiYA0T",
        "outputId": "6ec6848a-2477-4a7b-fd61-13c63daf823f"
      },
      "execution_count": null,
      "outputs": [
        {
          "output_type": "execute_result",
          "data": {
            "text/plain": [
              "array([2692.92807491, 1369.60672805])"
            ]
          },
          "metadata": {},
          "execution_count": 97
        }
      ]
    },
    {
      "cell_type": "code",
      "source": [
        "r2_score(y_testNN, y_predNN)"
      ],
      "metadata": {
        "colab": {
          "base_uri": "https://localhost:8080/"
        },
        "id": "TDlDiz8FY3DG",
        "outputId": "6b7e7d53-1667-4d66-9dd8-807558ab8569"
      },
      "execution_count": null,
      "outputs": [
        {
          "output_type": "execute_result",
          "data": {
            "text/plain": [
              "-64.15660047601723"
            ]
          },
          "metadata": {},
          "execution_count": 98
        }
      ]
    },
    {
      "cell_type": "markdown",
      "source": [
        "## Plotting predicted numbers into a time series graph"
      ],
      "metadata": {
        "id": "2yO1nUzRcFgO"
      }
    },
    {
      "cell_type": "markdown",
      "source": [
        "###Actual dataset dataframe"
      ],
      "metadata": {
        "id": "6lUiVI8-2CNM"
      }
    },
    {
      "cell_type": "code",
      "source": [
        "df1 = pd.DataFrame(X_trainLR)\n",
        "df1['Total death'] = y_trainLR\n",
        "df2 = pd.DataFrame(X_testLR)\n",
        "df2['Total death'] = y_testLR\n",
        "comb = [df1,df2]\n",
        "df_actual = pd.concat(comb)\n",
        "df_actual.sort_values(0,ascending=True)"
      ],
      "metadata": {
        "colab": {
          "base_uri": "https://localhost:8080/",
          "height": 363
        },
        "id": "f2h9UXA5g5QW",
        "outputId": "5f5ae45c-b83d-429e-9e40-a175f491a790"
      },
      "execution_count": null,
      "outputs": [
        {
          "output_type": "execute_result",
          "data": {
            "text/plain": [
              "      0  1       2     3    4     5       6  Total death\n",
              "0  2011  0  128876  1015  457   689  126715         1070\n",
              "1  2012  0  129106  1053  408   693  126952         1102\n",
              "2  2013  0  135024   964  164   356  133540         1019\n",
              "3  2014  0  137809  1027  194   301  136287         1068\n",
              "4  2015  0  140957   975  190   187  139605         1028\n",
              "5  2017  0  154958  1047  239   147  153525         1087\n",
              "6  2018  0  163078  1004  242   188  161644         1046\n",
              "7  2019  0  168222  1008  353   447  166414         1054\n",
              "0  2020  0  123230   764  411  1973  120082          805\n",
              "1  2021  0   60370   367  308   954   58688          436"
            ],
            "text/html": [
              "\n",
              "  <div id=\"df-5a447ea5-2a1b-4a54-a0d8-cf5ae624ad54\">\n",
              "    <div class=\"colab-df-container\">\n",
              "      <div>\n",
              "<style scoped>\n",
              "    .dataframe tbody tr th:only-of-type {\n",
              "        vertical-align: middle;\n",
              "    }\n",
              "\n",
              "    .dataframe tbody tr th {\n",
              "        vertical-align: top;\n",
              "    }\n",
              "\n",
              "    .dataframe thead th {\n",
              "        text-align: right;\n",
              "    }\n",
              "</style>\n",
              "<table border=\"1\" class=\"dataframe\">\n",
              "  <thead>\n",
              "    <tr style=\"text-align: right;\">\n",
              "      <th></th>\n",
              "      <th>0</th>\n",
              "      <th>1</th>\n",
              "      <th>2</th>\n",
              "      <th>3</th>\n",
              "      <th>4</th>\n",
              "      <th>5</th>\n",
              "      <th>6</th>\n",
              "      <th>Total death</th>\n",
              "    </tr>\n",
              "  </thead>\n",
              "  <tbody>\n",
              "    <tr>\n",
              "      <th>0</th>\n",
              "      <td>2011</td>\n",
              "      <td>0</td>\n",
              "      <td>128876</td>\n",
              "      <td>1015</td>\n",
              "      <td>457</td>\n",
              "      <td>689</td>\n",
              "      <td>126715</td>\n",
              "      <td>1070</td>\n",
              "    </tr>\n",
              "    <tr>\n",
              "      <th>1</th>\n",
              "      <td>2012</td>\n",
              "      <td>0</td>\n",
              "      <td>129106</td>\n",
              "      <td>1053</td>\n",
              "      <td>408</td>\n",
              "      <td>693</td>\n",
              "      <td>126952</td>\n",
              "      <td>1102</td>\n",
              "    </tr>\n",
              "    <tr>\n",
              "      <th>2</th>\n",
              "      <td>2013</td>\n",
              "      <td>0</td>\n",
              "      <td>135024</td>\n",
              "      <td>964</td>\n",
              "      <td>164</td>\n",
              "      <td>356</td>\n",
              "      <td>133540</td>\n",
              "      <td>1019</td>\n",
              "    </tr>\n",
              "    <tr>\n",
              "      <th>3</th>\n",
              "      <td>2014</td>\n",
              "      <td>0</td>\n",
              "      <td>137809</td>\n",
              "      <td>1027</td>\n",
              "      <td>194</td>\n",
              "      <td>301</td>\n",
              "      <td>136287</td>\n",
              "      <td>1068</td>\n",
              "    </tr>\n",
              "    <tr>\n",
              "      <th>4</th>\n",
              "      <td>2015</td>\n",
              "      <td>0</td>\n",
              "      <td>140957</td>\n",
              "      <td>975</td>\n",
              "      <td>190</td>\n",
              "      <td>187</td>\n",
              "      <td>139605</td>\n",
              "      <td>1028</td>\n",
              "    </tr>\n",
              "    <tr>\n",
              "      <th>5</th>\n",
              "      <td>2017</td>\n",
              "      <td>0</td>\n",
              "      <td>154958</td>\n",
              "      <td>1047</td>\n",
              "      <td>239</td>\n",
              "      <td>147</td>\n",
              "      <td>153525</td>\n",
              "      <td>1087</td>\n",
              "    </tr>\n",
              "    <tr>\n",
              "      <th>6</th>\n",
              "      <td>2018</td>\n",
              "      <td>0</td>\n",
              "      <td>163078</td>\n",
              "      <td>1004</td>\n",
              "      <td>242</td>\n",
              "      <td>188</td>\n",
              "      <td>161644</td>\n",
              "      <td>1046</td>\n",
              "    </tr>\n",
              "    <tr>\n",
              "      <th>7</th>\n",
              "      <td>2019</td>\n",
              "      <td>0</td>\n",
              "      <td>168222</td>\n",
              "      <td>1008</td>\n",
              "      <td>353</td>\n",
              "      <td>447</td>\n",
              "      <td>166414</td>\n",
              "      <td>1054</td>\n",
              "    </tr>\n",
              "    <tr>\n",
              "      <th>0</th>\n",
              "      <td>2020</td>\n",
              "      <td>0</td>\n",
              "      <td>123230</td>\n",
              "      <td>764</td>\n",
              "      <td>411</td>\n",
              "      <td>1973</td>\n",
              "      <td>120082</td>\n",
              "      <td>805</td>\n",
              "    </tr>\n",
              "    <tr>\n",
              "      <th>1</th>\n",
              "      <td>2021</td>\n",
              "      <td>0</td>\n",
              "      <td>60370</td>\n",
              "      <td>367</td>\n",
              "      <td>308</td>\n",
              "      <td>954</td>\n",
              "      <td>58688</td>\n",
              "      <td>436</td>\n",
              "    </tr>\n",
              "  </tbody>\n",
              "</table>\n",
              "</div>\n",
              "      <button class=\"colab-df-convert\" onclick=\"convertToInteractive('df-5a447ea5-2a1b-4a54-a0d8-cf5ae624ad54')\"\n",
              "              title=\"Convert this dataframe to an interactive table.\"\n",
              "              style=\"display:none;\">\n",
              "        \n",
              "  <svg xmlns=\"http://www.w3.org/2000/svg\" height=\"24px\"viewBox=\"0 0 24 24\"\n",
              "       width=\"24px\">\n",
              "    <path d=\"M0 0h24v24H0V0z\" fill=\"none\"/>\n",
              "    <path d=\"M18.56 5.44l.94 2.06.94-2.06 2.06-.94-2.06-.94-.94-2.06-.94 2.06-2.06.94zm-11 1L8.5 8.5l.94-2.06 2.06-.94-2.06-.94L8.5 2.5l-.94 2.06-2.06.94zm10 10l.94 2.06.94-2.06 2.06-.94-2.06-.94-.94-2.06-.94 2.06-2.06.94z\"/><path d=\"M17.41 7.96l-1.37-1.37c-.4-.4-.92-.59-1.43-.59-.52 0-1.04.2-1.43.59L10.3 9.45l-7.72 7.72c-.78.78-.78 2.05 0 2.83L4 21.41c.39.39.9.59 1.41.59.51 0 1.02-.2 1.41-.59l7.78-7.78 2.81-2.81c.8-.78.8-2.07 0-2.86zM5.41 20L4 18.59l7.72-7.72 1.47 1.35L5.41 20z\"/>\n",
              "  </svg>\n",
              "      </button>\n",
              "      \n",
              "  <style>\n",
              "    .colab-df-container {\n",
              "      display:flex;\n",
              "      flex-wrap:wrap;\n",
              "      gap: 12px;\n",
              "    }\n",
              "\n",
              "    .colab-df-convert {\n",
              "      background-color: #E8F0FE;\n",
              "      border: none;\n",
              "      border-radius: 50%;\n",
              "      cursor: pointer;\n",
              "      display: none;\n",
              "      fill: #1967D2;\n",
              "      height: 32px;\n",
              "      padding: 0 0 0 0;\n",
              "      width: 32px;\n",
              "    }\n",
              "\n",
              "    .colab-df-convert:hover {\n",
              "      background-color: #E2EBFA;\n",
              "      box-shadow: 0px 1px 2px rgba(60, 64, 67, 0.3), 0px 1px 3px 1px rgba(60, 64, 67, 0.15);\n",
              "      fill: #174EA6;\n",
              "    }\n",
              "\n",
              "    [theme=dark] .colab-df-convert {\n",
              "      background-color: #3B4455;\n",
              "      fill: #D2E3FC;\n",
              "    }\n",
              "\n",
              "    [theme=dark] .colab-df-convert:hover {\n",
              "      background-color: #434B5C;\n",
              "      box-shadow: 0px 1px 3px 1px rgba(0, 0, 0, 0.15);\n",
              "      filter: drop-shadow(0px 1px 2px rgba(0, 0, 0, 0.3));\n",
              "      fill: #FFFFFF;\n",
              "    }\n",
              "  </style>\n",
              "\n",
              "      <script>\n",
              "        const buttonEl =\n",
              "          document.querySelector('#df-5a447ea5-2a1b-4a54-a0d8-cf5ae624ad54 button.colab-df-convert');\n",
              "        buttonEl.style.display =\n",
              "          google.colab.kernel.accessAllowed ? 'block' : 'none';\n",
              "\n",
              "        async function convertToInteractive(key) {\n",
              "          const element = document.querySelector('#df-5a447ea5-2a1b-4a54-a0d8-cf5ae624ad54');\n",
              "          const dataTable =\n",
              "            await google.colab.kernel.invokeFunction('convertToInteractive',\n",
              "                                                     [key], {});\n",
              "          if (!dataTable) return;\n",
              "\n",
              "          const docLinkHtml = 'Like what you see? Visit the ' +\n",
              "            '<a target=\"_blank\" href=https://colab.research.google.com/notebooks/data_table.ipynb>data table notebook</a>'\n",
              "            + ' to learn more about interactive tables.';\n",
              "          element.innerHTML = '';\n",
              "          dataTable['output_type'] = 'display_data';\n",
              "          await google.colab.output.renderOutput(dataTable, element);\n",
              "          const docLink = document.createElement('div');\n",
              "          docLink.innerHTML = docLinkHtml;\n",
              "          element.appendChild(docLink);\n",
              "        }\n",
              "      </script>\n",
              "    </div>\n",
              "  </div>\n",
              "  "
            ]
          },
          "metadata": {},
          "execution_count": 105
        }
      ]
    },
    {
      "cell_type": "markdown",
      "source": [
        "###Linear Regression"
      ],
      "metadata": {
        "id": "etk45bsl0_Ct"
      }
    },
    {
      "cell_type": "markdown",
      "source": [
        "####Combining dataframes to create data for plotting"
      ],
      "metadata": {
        "id": "WDhD3Igh1Xec"
      }
    },
    {
      "cell_type": "code",
      "source": [
        "df1 = pd.DataFrame(X_trainLR)\n",
        "df1['Total death'] = y_trainLR\n",
        "df3 = pd.DataFrame(X_testLR)\n",
        "df3['Total death'] = y_predLR\n",
        "comb = [df1,df3]\n",
        "df_pred = pd.concat(comb)\n",
        "df_pred.sort_values(0,ascending=True)"
      ],
      "metadata": {
        "colab": {
          "base_uri": "https://localhost:8080/",
          "height": 363
        },
        "id": "V8o9OoDiz9Yu",
        "outputId": "082cf4ad-82bd-4770-e0a7-82acda97f99b"
      },
      "execution_count": null,
      "outputs": [
        {
          "output_type": "execute_result",
          "data": {
            "text/plain": [
              "      0  1       2     3    4     5       6  Total death\n",
              "0  2011  0  128876  1015  457   689  126715  1070.000000\n",
              "1  2012  0  129106  1053  408   693  126952  1102.000000\n",
              "2  2013  0  135024   964  164   356  133540  1019.000000\n",
              "3  2014  0  137809  1027  194   301  136287  1068.000000\n",
              "4  2015  0  140957   975  190   187  139605  1028.000000\n",
              "5  2017  0  154958  1047  239   147  153525  1087.000000\n",
              "6  2018  0  163078  1004  242   188  161644  1046.000000\n",
              "7  2019  0  168222  1008  353   447  166414  1054.000000\n",
              "0  2020  0  123230   764  411  1973  120082   884.099762\n",
              "1  2021  0   60370   367  308   954   58688   604.931215"
            ],
            "text/html": [
              "\n",
              "  <div id=\"df-f30226f5-de52-4433-8a09-c68f44f13b72\">\n",
              "    <div class=\"colab-df-container\">\n",
              "      <div>\n",
              "<style scoped>\n",
              "    .dataframe tbody tr th:only-of-type {\n",
              "        vertical-align: middle;\n",
              "    }\n",
              "\n",
              "    .dataframe tbody tr th {\n",
              "        vertical-align: top;\n",
              "    }\n",
              "\n",
              "    .dataframe thead th {\n",
              "        text-align: right;\n",
              "    }\n",
              "</style>\n",
              "<table border=\"1\" class=\"dataframe\">\n",
              "  <thead>\n",
              "    <tr style=\"text-align: right;\">\n",
              "      <th></th>\n",
              "      <th>0</th>\n",
              "      <th>1</th>\n",
              "      <th>2</th>\n",
              "      <th>3</th>\n",
              "      <th>4</th>\n",
              "      <th>5</th>\n",
              "      <th>6</th>\n",
              "      <th>Total death</th>\n",
              "    </tr>\n",
              "  </thead>\n",
              "  <tbody>\n",
              "    <tr>\n",
              "      <th>0</th>\n",
              "      <td>2011</td>\n",
              "      <td>0</td>\n",
              "      <td>128876</td>\n",
              "      <td>1015</td>\n",
              "      <td>457</td>\n",
              "      <td>689</td>\n",
              "      <td>126715</td>\n",
              "      <td>1070.000000</td>\n",
              "    </tr>\n",
              "    <tr>\n",
              "      <th>1</th>\n",
              "      <td>2012</td>\n",
              "      <td>0</td>\n",
              "      <td>129106</td>\n",
              "      <td>1053</td>\n",
              "      <td>408</td>\n",
              "      <td>693</td>\n",
              "      <td>126952</td>\n",
              "      <td>1102.000000</td>\n",
              "    </tr>\n",
              "    <tr>\n",
              "      <th>2</th>\n",
              "      <td>2013</td>\n",
              "      <td>0</td>\n",
              "      <td>135024</td>\n",
              "      <td>964</td>\n",
              "      <td>164</td>\n",
              "      <td>356</td>\n",
              "      <td>133540</td>\n",
              "      <td>1019.000000</td>\n",
              "    </tr>\n",
              "    <tr>\n",
              "      <th>3</th>\n",
              "      <td>2014</td>\n",
              "      <td>0</td>\n",
              "      <td>137809</td>\n",
              "      <td>1027</td>\n",
              "      <td>194</td>\n",
              "      <td>301</td>\n",
              "      <td>136287</td>\n",
              "      <td>1068.000000</td>\n",
              "    </tr>\n",
              "    <tr>\n",
              "      <th>4</th>\n",
              "      <td>2015</td>\n",
              "      <td>0</td>\n",
              "      <td>140957</td>\n",
              "      <td>975</td>\n",
              "      <td>190</td>\n",
              "      <td>187</td>\n",
              "      <td>139605</td>\n",
              "      <td>1028.000000</td>\n",
              "    </tr>\n",
              "    <tr>\n",
              "      <th>5</th>\n",
              "      <td>2017</td>\n",
              "      <td>0</td>\n",
              "      <td>154958</td>\n",
              "      <td>1047</td>\n",
              "      <td>239</td>\n",
              "      <td>147</td>\n",
              "      <td>153525</td>\n",
              "      <td>1087.000000</td>\n",
              "    </tr>\n",
              "    <tr>\n",
              "      <th>6</th>\n",
              "      <td>2018</td>\n",
              "      <td>0</td>\n",
              "      <td>163078</td>\n",
              "      <td>1004</td>\n",
              "      <td>242</td>\n",
              "      <td>188</td>\n",
              "      <td>161644</td>\n",
              "      <td>1046.000000</td>\n",
              "    </tr>\n",
              "    <tr>\n",
              "      <th>7</th>\n",
              "      <td>2019</td>\n",
              "      <td>0</td>\n",
              "      <td>168222</td>\n",
              "      <td>1008</td>\n",
              "      <td>353</td>\n",
              "      <td>447</td>\n",
              "      <td>166414</td>\n",
              "      <td>1054.000000</td>\n",
              "    </tr>\n",
              "    <tr>\n",
              "      <th>0</th>\n",
              "      <td>2020</td>\n",
              "      <td>0</td>\n",
              "      <td>123230</td>\n",
              "      <td>764</td>\n",
              "      <td>411</td>\n",
              "      <td>1973</td>\n",
              "      <td>120082</td>\n",
              "      <td>884.099762</td>\n",
              "    </tr>\n",
              "    <tr>\n",
              "      <th>1</th>\n",
              "      <td>2021</td>\n",
              "      <td>0</td>\n",
              "      <td>60370</td>\n",
              "      <td>367</td>\n",
              "      <td>308</td>\n",
              "      <td>954</td>\n",
              "      <td>58688</td>\n",
              "      <td>604.931215</td>\n",
              "    </tr>\n",
              "  </tbody>\n",
              "</table>\n",
              "</div>\n",
              "      <button class=\"colab-df-convert\" onclick=\"convertToInteractive('df-f30226f5-de52-4433-8a09-c68f44f13b72')\"\n",
              "              title=\"Convert this dataframe to an interactive table.\"\n",
              "              style=\"display:none;\">\n",
              "        \n",
              "  <svg xmlns=\"http://www.w3.org/2000/svg\" height=\"24px\"viewBox=\"0 0 24 24\"\n",
              "       width=\"24px\">\n",
              "    <path d=\"M0 0h24v24H0V0z\" fill=\"none\"/>\n",
              "    <path d=\"M18.56 5.44l.94 2.06.94-2.06 2.06-.94-2.06-.94-.94-2.06-.94 2.06-2.06.94zm-11 1L8.5 8.5l.94-2.06 2.06-.94-2.06-.94L8.5 2.5l-.94 2.06-2.06.94zm10 10l.94 2.06.94-2.06 2.06-.94-2.06-.94-.94-2.06-.94 2.06-2.06.94z\"/><path d=\"M17.41 7.96l-1.37-1.37c-.4-.4-.92-.59-1.43-.59-.52 0-1.04.2-1.43.59L10.3 9.45l-7.72 7.72c-.78.78-.78 2.05 0 2.83L4 21.41c.39.39.9.59 1.41.59.51 0 1.02-.2 1.41-.59l7.78-7.78 2.81-2.81c.8-.78.8-2.07 0-2.86zM5.41 20L4 18.59l7.72-7.72 1.47 1.35L5.41 20z\"/>\n",
              "  </svg>\n",
              "      </button>\n",
              "      \n",
              "  <style>\n",
              "    .colab-df-container {\n",
              "      display:flex;\n",
              "      flex-wrap:wrap;\n",
              "      gap: 12px;\n",
              "    }\n",
              "\n",
              "    .colab-df-convert {\n",
              "      background-color: #E8F0FE;\n",
              "      border: none;\n",
              "      border-radius: 50%;\n",
              "      cursor: pointer;\n",
              "      display: none;\n",
              "      fill: #1967D2;\n",
              "      height: 32px;\n",
              "      padding: 0 0 0 0;\n",
              "      width: 32px;\n",
              "    }\n",
              "\n",
              "    .colab-df-convert:hover {\n",
              "      background-color: #E2EBFA;\n",
              "      box-shadow: 0px 1px 2px rgba(60, 64, 67, 0.3), 0px 1px 3px 1px rgba(60, 64, 67, 0.15);\n",
              "      fill: #174EA6;\n",
              "    }\n",
              "\n",
              "    [theme=dark] .colab-df-convert {\n",
              "      background-color: #3B4455;\n",
              "      fill: #D2E3FC;\n",
              "    }\n",
              "\n",
              "    [theme=dark] .colab-df-convert:hover {\n",
              "      background-color: #434B5C;\n",
              "      box-shadow: 0px 1px 3px 1px rgba(0, 0, 0, 0.15);\n",
              "      filter: drop-shadow(0px 1px 2px rgba(0, 0, 0, 0.3));\n",
              "      fill: #FFFFFF;\n",
              "    }\n",
              "  </style>\n",
              "\n",
              "      <script>\n",
              "        const buttonEl =\n",
              "          document.querySelector('#df-f30226f5-de52-4433-8a09-c68f44f13b72 button.colab-df-convert');\n",
              "        buttonEl.style.display =\n",
              "          google.colab.kernel.accessAllowed ? 'block' : 'none';\n",
              "\n",
              "        async function convertToInteractive(key) {\n",
              "          const element = document.querySelector('#df-f30226f5-de52-4433-8a09-c68f44f13b72');\n",
              "          const dataTable =\n",
              "            await google.colab.kernel.invokeFunction('convertToInteractive',\n",
              "                                                     [key], {});\n",
              "          if (!dataTable) return;\n",
              "\n",
              "          const docLinkHtml = 'Like what you see? Visit the ' +\n",
              "            '<a target=\"_blank\" href=https://colab.research.google.com/notebooks/data_table.ipynb>data table notebook</a>'\n",
              "            + ' to learn more about interactive tables.';\n",
              "          element.innerHTML = '';\n",
              "          dataTable['output_type'] = 'display_data';\n",
              "          await google.colab.output.renderOutput(dataTable, element);\n",
              "          const docLink = document.createElement('div');\n",
              "          docLink.innerHTML = docLinkHtml;\n",
              "          element.appendChild(docLink);\n",
              "        }\n",
              "      </script>\n",
              "    </div>\n",
              "  </div>\n",
              "  "
            ]
          },
          "metadata": {},
          "execution_count": 106
        }
      ]
    },
    {
      "cell_type": "markdown",
      "source": [
        "####Graph of Linear Regression\n"
      ],
      "metadata": {
        "id": "QNxwvmyK1kR8"
      }
    },
    {
      "cell_type": "code",
      "source": [
        "import matplotlib.pyplot as plt\n",
        "\n",
        "acc = df_actual[[0,'Total death']]\n",
        "yearonly = accident_df['Year']\n",
        "x1 = yearonly.drop_duplicates()\n",
        "y1 = df_actual.groupby(0)['Total death'].sum()\n",
        "y2 = df_pred.groupby(0)['Total death'].sum()\n",
        "plt.plot(x1, y1)\n",
        "plt.plot(x1,y2)\n",
        "plt.plot()\n",
        "plt.show()"
      ],
      "metadata": {
        "id": "g9g5mNHmcUY-",
        "colab": {
          "base_uri": "https://localhost:8080/",
          "height": 430
        },
        "outputId": "2aa619e1-2dbf-4c22-bfff-f80776df1178"
      },
      "execution_count": null,
      "outputs": [
        {
          "output_type": "display_data",
          "data": {
            "text/plain": [
              "<Figure size 640x480 with 1 Axes>"
            ],
            "image/png": "[encoded data removed]"
          },
          "metadata": {}
        }
      ]
    },
    {
      "cell_type": "markdown",
      "source": [
        "### Neural Network"
      ],
      "metadata": {
        "id": "AEaa1NXt1vrV"
      }
    },
    {
      "cell_type": "markdown",
      "source": [
        "####Combining dataframes to create data for plotting"
      ],
      "metadata": {
        "id": "Q1qfYvW011An"
      }
    },
    {
      "cell_type": "code",
      "source": [
        "df1 = pd.DataFrame(X_trainNN)\n",
        "df1['Total death'] = y_trainNN\n",
        "df3 = pd.DataFrame(X_testNN)\n",
        "df3['Total death'] = y_predNN\n",
        "comb = [df1,df3]\n",
        "df_pred = pd.concat(comb)\n",
        "df_pred.sort_values(0,ascending=True)"
      ],
      "metadata": {
        "colab": {
          "base_uri": "https://localhost:8080/",
          "height": 363
        },
        "outputId": "99ec8811-124e-40fc-f4ee-aa77ce8d4e7e",
        "id": "T0Ely_8k11An"
      },
      "execution_count": null,
      "outputs": [
        {
          "output_type": "execute_result",
          "data": {
            "text/plain": [
              "      0  1       2     3    4     5       6  Total death\n",
              "0  2011  0  128876  1015  457   689  126715  1070.000000\n",
              "1  2012  0  129106  1053  408   693  126952  1102.000000\n",
              "2  2013  0  135024   964  164   356  133540  1019.000000\n",
              "3  2014  0  137809  1027  194   301  136287  1068.000000\n",
              "4  2015  0  140957   975  190   187  139605  1028.000000\n",
              "5  2017  0  154958  1047  239   147  153525  1087.000000\n",
              "6  2018  0  163078  1004  242   188  161644  1046.000000\n",
              "7  2019  0  168222  1008  353   447  166414  1054.000000\n",
              "0  2020  0  123230   764  411  1973  120082  2692.928075\n",
              "1  2021  0   60370   367  308   954   58688  1369.606728"
            ],
            "text/html": [
              "\n",
              "  <div id=\"df-9edc7b96-a99b-4914-b9b0-ea566856e6ae\">\n",
              "    <div class=\"colab-df-container\">\n",
              "      <div>\n",
              "<style scoped>\n",
              "    .dataframe tbody tr th:only-of-type {\n",
              "        vertical-align: middle;\n",
              "    }\n",
              "\n",
              "    .dataframe tbody tr th {\n",
              "        vertical-align: top;\n",
              "    }\n",
              "\n",
              "    .dataframe thead th {\n",
              "        text-align: right;\n",
              "    }\n",
              "</style>\n",
              "<table border=\"1\" class=\"dataframe\">\n",
              "  <thead>\n",
              "    <tr style=\"text-align: right;\">\n",
              "      <th></th>\n",
              "      <th>0</th>\n",
              "      <th>1</th>\n",
              "      <th>2</th>\n",
              "      <th>3</th>\n",
              "      <th>4</th>\n",
              "      <th>5</th>\n",
              "      <th>6</th>\n",
              "      <th>Total death</th>\n",
              "    </tr>\n",
              "  </thead>\n",
              "  <tbody>\n",
              "    <tr>\n",
              "      <th>0</th>\n",
              "      <td>2011</td>\n",
              "      <td>0</td>\n",
              "      <td>128876</td>\n",
              "      <td>1015</td>\n",
              "      <td>457</td>\n",
              "      <td>689</td>\n",
              "      <td>126715</td>\n",
              "      <td>1070.000000</td>\n",
              "    </tr>\n",
              "    <tr>\n",
              "      <th>1</th>\n",
              "      <td>2012</td>\n",
              "      <td>0</td>\n",
              "      <td>129106</td>\n",
              "      <td>1053</td>\n",
              "      <td>408</td>\n",
              "      <td>693</td>\n",
              "      <td>126952</td>\n",
              "      <td>1102.000000</td>\n",
              "    </tr>\n",
              "    <tr>\n",
              "      <th>2</th>\n",
              "      <td>2013</td>\n",
              "      <td>0</td>\n",
              "      <td>135024</td>\n",
              "      <td>964</td>\n",
              "      <td>164</td>\n",
              "      <td>356</td>\n",
              "      <td>133540</td>\n",
              "      <td>1019.000000</td>\n",
              "    </tr>\n",
              "    <tr>\n",
              "      <th>3</th>\n",
              "      <td>2014</td>\n",
              "      <td>0</td>\n",
              "      <td>137809</td>\n",
              "      <td>1027</td>\n",
              "      <td>194</td>\n",
              "      <td>301</td>\n",
              "      <td>136287</td>\n",
              "      <td>1068.000000</td>\n",
              "    </tr>\n",
              "    <tr>\n",
              "      <th>4</th>\n",
              "      <td>2015</td>\n",
              "      <td>0</td>\n",
              "      <td>140957</td>\n",
              "      <td>975</td>\n",
              "      <td>190</td>\n",
              "      <td>187</td>\n",
              "      <td>139605</td>\n",
              "      <td>1028.000000</td>\n",
              "    </tr>\n",
              "    <tr>\n",
              "      <th>5</th>\n",
              "      <td>2017</td>\n",
              "      <td>0</td>\n",
              "      <td>154958</td>\n",
              "      <td>1047</td>\n",
              "      <td>239</td>\n",
              "      <td>147</td>\n",
              "      <td>153525</td>\n",
              "      <td>1087.000000</td>\n",
              "    </tr>\n",
              "    <tr>\n",
              "      <th>6</th>\n",
              "      <td>2018</td>\n",
              "      <td>0</td>\n",
              "      <td>163078</td>\n",
              "      <td>1004</td>\n",
              "      <td>242</td>\n",
              "      <td>188</td>\n",
              "      <td>161644</td>\n",
              "      <td>1046.000000</td>\n",
              "    </tr>\n",
              "    <tr>\n",
              "      <th>7</th>\n",
              "      <td>2019</td>\n",
              "      <td>0</td>\n",
              "      <td>168222</td>\n",
              "      <td>1008</td>\n",
              "      <td>353</td>\n",
              "      <td>447</td>\n",
              "      <td>166414</td>\n",
              "      <td>1054.000000</td>\n",
              "    </tr>\n",
              "    <tr>\n",
              "      <th>0</th>\n",
              "      <td>2020</td>\n",
              "      <td>0</td>\n",
              "      <td>123230</td>\n",
              "      <td>764</td>\n",
              "      <td>411</td>\n",
              "      <td>1973</td>\n",
              "      <td>120082</td>\n",
              "      <td>2692.928075</td>\n",
              "    </tr>\n",
              "    <tr>\n",
              "      <th>1</th>\n",
              "      <td>2021</td>\n",
              "      <td>0</td>\n",
              "      <td>60370</td>\n",
              "      <td>367</td>\n",
              "      <td>308</td>\n",
              "      <td>954</td>\n",
              "      <td>58688</td>\n",
              "      <td>1369.606728</td>\n",
              "    </tr>\n",
              "  </tbody>\n",
              "</table>\n",
              "</div>\n",
              "      <button class=\"colab-df-convert\" onclick=\"convertToInteractive('df-9edc7b96-a99b-4914-b9b0-ea566856e6ae')\"\n",
              "              title=\"Convert this dataframe to an interactive table.\"\n",
              "              style=\"display:none;\">\n",
              "        \n",
              "  <svg xmlns=\"http://www.w3.org/2000/svg\" height=\"24px\"viewBox=\"0 0 24 24\"\n",
              "       width=\"24px\">\n",
              "    <path d=\"M0 0h24v24H0V0z\" fill=\"none\"/>\n",
              "    <path d=\"M18.56 5.44l.94 2.06.94-2.06 2.06-.94-2.06-.94-.94-2.06-.94 2.06-2.06.94zm-11 1L8.5 8.5l.94-2.06 2.06-.94-2.06-.94L8.5 2.5l-.94 2.06-2.06.94zm10 10l.94 2.06.94-2.06 2.06-.94-2.06-.94-.94-2.06-.94 2.06-2.06.94z\"/><path d=\"M17.41 7.96l-1.37-1.37c-.4-.4-.92-.59-1.43-.59-.52 0-1.04.2-1.43.59L10.3 9.45l-7.72 7.72c-.78.78-.78 2.05 0 2.83L4 21.41c.39.39.9.59 1.41.59.51 0 1.02-.2 1.41-.59l7.78-7.78 2.81-2.81c.8-.78.8-2.07 0-2.86zM5.41 20L4 18.59l7.72-7.72 1.47 1.35L5.41 20z\"/>\n",
              "  </svg>\n",
              "      </button>\n",
              "      \n",
              "  <style>\n",
              "    .colab-df-container {\n",
              "      display:flex;\n",
              "      flex-wrap:wrap;\n",
              "      gap: 12px;\n",
              "    }\n",
              "\n",
              "    .colab-df-convert {\n",
              "      background-color: #E8F0FE;\n",
              "      border: none;\n",
              "      border-radius: 50%;\n",
              "      cursor: pointer;\n",
              "      display: none;\n",
              "      fill: #1967D2;\n",
              "      height: 32px;\n",
              "      padding: 0 0 0 0;\n",
              "      width: 32px;\n",
              "    }\n",
              "\n",
              "    .colab-df-convert:hover {\n",
              "      background-color: #E2EBFA;\n",
              "      box-shadow: 0px 1px 2px rgba(60, 64, 67, 0.3), 0px 1px 3px 1px rgba(60, 64, 67, 0.15);\n",
              "      fill: #174EA6;\n",
              "    }\n",
              "\n",
              "    [theme=dark] .colab-df-convert {\n",
              "      background-color: #3B4455;\n",
              "      fill: #D2E3FC;\n",
              "    }\n",
              "\n",
              "    [theme=dark] .colab-df-convert:hover {\n",
              "      background-color: #434B5C;\n",
              "      box-shadow: 0px 1px 3px 1px rgba(0, 0, 0, 0.15);\n",
              "      filter: drop-shadow(0px 1px 2px rgba(0, 0, 0, 0.3));\n",
              "      fill: #FFFFFF;\n",
              "    }\n",
              "  </style>\n",
              "\n",
              "      <script>\n",
              "        const buttonEl =\n",
              "          document.querySelector('#df-9edc7b96-a99b-4914-b9b0-ea566856e6ae button.colab-df-convert');\n",
              "        buttonEl.style.display =\n",
              "          google.colab.kernel.accessAllowed ? 'block' : 'none';\n",
              "\n",
              "        async function convertToInteractive(key) {\n",
              "          const element = document.querySelector('#df-9edc7b96-a99b-4914-b9b0-ea566856e6ae');\n",
              "          const dataTable =\n",
              "            await google.colab.kernel.invokeFunction('convertToInteractive',\n",
              "                                                     [key], {});\n",
              "          if (!dataTable) return;\n",
              "\n",
              "          const docLinkHtml = 'Like what you see? Visit the ' +\n",
              "            '<a target=\"_blank\" href=https://colab.research.google.com/notebooks/data_table.ipynb>data table notebook</a>'\n",
              "            + ' to learn more about interactive tables.';\n",
              "          element.innerHTML = '';\n",
              "          dataTable['output_type'] = 'display_data';\n",
              "          await google.colab.output.renderOutput(dataTable, element);\n",
              "          const docLink = document.createElement('div');\n",
              "          docLink.innerHTML = docLinkHtml;\n",
              "          element.appendChild(docLink);\n",
              "        }\n",
              "      </script>\n",
              "    </div>\n",
              "  </div>\n",
              "  "
            ]
          },
          "metadata": {},
          "execution_count": 109
        }
      ]
    },
    {
      "cell_type": "markdown",
      "source": [
        "####Graph of Neural Network"
      ],
      "metadata": {
        "id": "TuE-20mY2kE2"
      }
    },
    {
      "cell_type": "code",
      "source": [
        "import matplotlib.pyplot as plt\n",
        "\n",
        "acc = df_actual[[0,'Total death']]\n",
        "yearonly = accident_df['Year']\n",
        "x1 = yearonly.drop_duplicates()\n",
        "y1 = df_actual.groupby(0)['Total death'].sum()\n",
        "y2 = df_pred.groupby(0)['Total death'].sum()\n",
        "plt.plot(x1, y1)\n",
        "plt.plot(x1,y2)\n",
        "plt.plot()\n",
        "plt.show()"
      ],
      "metadata": {
        "colab": {
          "base_uri": "https://localhost:8080/",
          "height": 430
        },
        "outputId": "18c7228d-b570-4c2d-d22c-336144e3f199",
        "id": "MeRFDhF62Vk9"
      },
      "execution_count": null,
      "outputs": [
        {
          "output_type": "display_data",
          "data": {
            "text/plain": [
              "<Figure size 640x480 with 1 Axes>"
            ],
            "image/png": "[encoded data removed]"
          },
          "metadata": {}
        }
      ]
    },
    {
      "cell_type": "markdown",
      "source": [
        "### Support Vector Regression"
      ],
      "metadata": {
        "id": "iFv1khs32rzt"
      }
    },
    {
      "cell_type": "markdown",
      "source": [
        "####Combining dataframes to create data for plotting"
      ],
      "metadata": {
        "id": "yvhXImmS2rzt"
      }
    },
    {
      "cell_type": "code",
      "source": [
        "df1 = pd.DataFrame(X_trainSVR)\n",
        "df1['Total death'] = y_trainSVR\n",
        "df3 = pd.DataFrame(X_testSVR)\n",
        "df3['Total death'] = y_predSVR\n",
        "comb = [df1,df3]\n",
        "df_pred = pd.concat(comb)\n",
        "df_pred.sort_values(0,ascending=True)"
      ],
      "metadata": {
        "colab": {
          "base_uri": "https://localhost:8080/",
          "height": 363
        },
        "outputId": "f07fe2a3-3f9c-4b82-ebae-f93ae2edb869",
        "id": "PgpabQ182rzu"
      },
      "execution_count": null,
      "outputs": [
        {
          "output_type": "execute_result",
          "data": {
            "text/plain": [
              "      0  1       2     3    4     5       6  Total death\n",
              "0  2011  0  128876  1015  457   689  126715  1070.000000\n",
              "1  2012  0  129106  1053  408   693  126952  1102.000000\n",
              "2  2013  0  135024   964  164   356  133540  1019.000000\n",
              "3  2014  0  137809  1027  194   301  136287  1068.000000\n",
              "4  2015  0  140957   975  190   187  139605  1028.000000\n",
              "5  2017  0  154958  1047  239   147  153525  1087.000000\n",
              "6  2018  0  163078  1004  242   188  161644  1046.000000\n",
              "7  2019  0  168222  1008  353   447  166414  1054.000000\n",
              "0  2020  0  123230   764  411  1973  120082  1061.421111\n",
              "1  2021  0   60370   367  308   954   58688  1061.421111"
            ],
            "text/html": [
              "\n",
              "  <div id=\"df-8a3d61bd-464c-4aaa-98f5-e46036860817\">\n",
              "    <div class=\"colab-df-container\">\n",
              "      <div>\n",
              "<style scoped>\n",
              "    .dataframe tbody tr th:only-of-type {\n",
              "        vertical-align: middle;\n",
              "    }\n",
              "\n",
              "    .dataframe tbody tr th {\n",
              "        vertical-align: top;\n",
              "    }\n",
              "\n",
              "    .dataframe thead th {\n",
              "        text-align: right;\n",
              "    }\n",
              "</style>\n",
              "<table border=\"1\" class=\"dataframe\">\n",
              "  <thead>\n",
              "    <tr style=\"text-align: right;\">\n",
              "      <th></th>\n",
              "      <th>0</th>\n",
              "      <th>1</th>\n",
              "      <th>2</th>\n",
              "      <th>3</th>\n",
              "      <th>4</th>\n",
              "      <th>5</th>\n",
              "      <th>6</th>\n",
              "      <th>Total death</th>\n",
              "    </tr>\n",
              "  </thead>\n",
              "  <tbody>\n",
              "    <tr>\n",
              "      <th>0</th>\n",
              "      <td>2011</td>\n",
              "      <td>0</td>\n",
              "      <td>128876</td>\n",
              "      <td>1015</td>\n",
              "      <td>457</td>\n",
              "      <td>689</td>\n",
              "      <td>126715</td>\n",
              "      <td>1070.000000</td>\n",
              "    </tr>\n",
              "    <tr>\n",
              "      <th>1</th>\n",
              "      <td>2012</td>\n",
              "      <td>0</td>\n",
              "      <td>129106</td>\n",
              "      <td>1053</td>\n",
              "      <td>408</td>\n",
              "      <td>693</td>\n",
              "      <td>126952</td>\n",
              "      <td>1102.000000</td>\n",
              "    </tr>\n",
              "    <tr>\n",
              "      <th>2</th>\n",
              "      <td>2013</td>\n",
              "      <td>0</td>\n",
              "      <td>135024</td>\n",
              "      <td>964</td>\n",
              "      <td>164</td>\n",
              "      <td>356</td>\n",
              "      <td>133540</td>\n",
              "      <td>1019.000000</td>\n",
              "    </tr>\n",
              "    <tr>\n",
              "      <th>3</th>\n",
              "      <td>2014</td>\n",
              "      <td>0</td>\n",
              "      <td>137809</td>\n",
              "      <td>1027</td>\n",
              "      <td>194</td>\n",
              "      <td>301</td>\n",
              "      <td>136287</td>\n",
              "      <td>1068.000000</td>\n",
              "    </tr>\n",
              "    <tr>\n",
              "      <th>4</th>\n",
              "      <td>2015</td>\n",
              "      <td>0</td>\n",
              "      <td>140957</td>\n",
              "      <td>975</td>\n",
              "      <td>190</td>\n",
              "      <td>187</td>\n",
              "      <td>139605</td>\n",
              "      <td>1028.000000</td>\n",
              "    </tr>\n",
              "    <tr>\n",
              "      <th>5</th>\n",
              "      <td>2017</td>\n",
              "      <td>0</td>\n",
              "      <td>154958</td>\n",
              "      <td>1047</td>\n",
              "      <td>239</td>\n",
              "      <td>147</td>\n",
              "      <td>153525</td>\n",
              "      <td>1087.000000</td>\n",
              "    </tr>\n",
              "    <tr>\n",
              "      <th>6</th>\n",
              "      <td>2018</td>\n",
              "      <td>0</td>\n",
              "      <td>163078</td>\n",
              "      <td>1004</td>\n",
              "      <td>242</td>\n",
              "      <td>188</td>\n",
              "      <td>161644</td>\n",
              "      <td>1046.000000</td>\n",
              "    </tr>\n",
              "    <tr>\n",
              "      <th>7</th>\n",
              "      <td>2019</td>\n",
              "      <td>0</td>\n",
              "      <td>168222</td>\n",
              "      <td>1008</td>\n",
              "      <td>353</td>\n",
              "      <td>447</td>\n",
              "      <td>166414</td>\n",
              "      <td>1054.000000</td>\n",
              "    </tr>\n",
              "    <tr>\n",
              "      <th>0</th>\n",
              "      <td>2020</td>\n",
              "      <td>0</td>\n",
              "      <td>123230</td>\n",
              "      <td>764</td>\n",
              "      <td>411</td>\n",
              "      <td>1973</td>\n",
              "      <td>120082</td>\n",
              "      <td>1061.421111</td>\n",
              "    </tr>\n",
              "    <tr>\n",
              "      <th>1</th>\n",
              "      <td>2021</td>\n",
              "      <td>0</td>\n",
              "      <td>60370</td>\n",
              "      <td>367</td>\n",
              "      <td>308</td>\n",
              "      <td>954</td>\n",
              "      <td>58688</td>\n",
              "      <td>1061.421111</td>\n",
              "    </tr>\n",
              "  </tbody>\n",
              "</table>\n",
              "</div>\n",
              "      <button class=\"colab-df-convert\" onclick=\"convertToInteractive('df-8a3d61bd-464c-4aaa-98f5-e46036860817')\"\n",
              "              title=\"Convert this dataframe to an interactive table.\"\n",
              "              style=\"display:none;\">\n",
              "        \n",
              "  <svg xmlns=\"http://www.w3.org/2000/svg\" height=\"24px\"viewBox=\"0 0 24 24\"\n",
              "       width=\"24px\">\n",
              "    <path d=\"M0 0h24v24H0V0z\" fill=\"none\"/>\n",
              "    <path d=\"M18.56 5.44l.94 2.06.94-2.06 2.06-.94-2.06-.94-.94-2.06-.94 2.06-2.06.94zm-11 1L8.5 8.5l.94-2.06 2.06-.94-2.06-.94L8.5 2.5l-.94 2.06-2.06.94zm10 10l.94 2.06.94-2.06 2.06-.94-2.06-.94-.94-2.06-.94 2.06-2.06.94z\"/><path d=\"M17.41 7.96l-1.37-1.37c-.4-.4-.92-.59-1.43-.59-.52 0-1.04.2-1.43.59L10.3 9.45l-7.72 7.72c-.78.78-.78 2.05 0 2.83L4 21.41c.39.39.9.59 1.41.59.51 0 1.02-.2 1.41-.59l7.78-7.78 2.81-2.81c.8-.78.8-2.07 0-2.86zM5.41 20L4 18.59l7.72-7.72 1.47 1.35L5.41 20z\"/>\n",
              "  </svg>\n",
              "      </button>\n",
              "      \n",
              "  <style>\n",
              "    .colab-df-container {\n",
              "      display:flex;\n",
              "      flex-wrap:wrap;\n",
              "      gap: 12px;\n",
              "    }\n",
              "\n",
              "    .colab-df-convert {\n",
              "      background-color: #E8F0FE;\n",
              "      border: none;\n",
              "      border-radius: 50%;\n",
              "      cursor: pointer;\n",
              "      display: none;\n",
              "      fill: #1967D2;\n",
              "      height: 32px;\n",
              "      padding: 0 0 0 0;\n",
              "      width: 32px;\n",
              "    }\n",
              "\n",
              "    .colab-df-convert:hover {\n",
              "      background-color: #E2EBFA;\n",
              "      box-shadow: 0px 1px 2px rgba(60, 64, 67, 0.3), 0px 1px 3px 1px rgba(60, 64, 67, 0.15);\n",
              "      fill: #174EA6;\n",
              "    }\n",
              "\n",
              "    [theme=dark] .colab-df-convert {\n",
              "      background-color: #3B4455;\n",
              "      fill: #D2E3FC;\n",
              "    }\n",
              "\n",
              "    [theme=dark] .colab-df-convert:hover {\n",
              "      background-color: #434B5C;\n",
              "      box-shadow: 0px 1px 3px 1px rgba(0, 0, 0, 0.15);\n",
              "      filter: drop-shadow(0px 1px 2px rgba(0, 0, 0, 0.3));\n",
              "      fill: #FFFFFF;\n",
              "    }\n",
              "  </style>\n",
              "\n",
              "      <script>\n",
              "        const buttonEl =\n",
              "          document.querySelector('#df-8a3d61bd-464c-4aaa-98f5-e46036860817 button.colab-df-convert');\n",
              "        buttonEl.style.display =\n",
              "          google.colab.kernel.accessAllowed ? 'block' : 'none';\n",
              "\n",
              "        async function convertToInteractive(key) {\n",
              "          const element = document.querySelector('#df-8a3d61bd-464c-4aaa-98f5-e46036860817');\n",
              "          const dataTable =\n",
              "            await google.colab.kernel.invokeFunction('convertToInteractive',\n",
              "                                                     [key], {});\n",
              "          if (!dataTable) return;\n",
              "\n",
              "          const docLinkHtml = 'Like what you see? Visit the ' +\n",
              "            '<a target=\"_blank\" href=https://colab.research.google.com/notebooks/data_table.ipynb>data table notebook</a>'\n",
              "            + ' to learn more about interactive tables.';\n",
              "          element.innerHTML = '';\n",
              "          dataTable['output_type'] = 'display_data';\n",
              "          await google.colab.output.renderOutput(dataTable, element);\n",
              "          const docLink = document.createElement('div');\n",
              "          docLink.innerHTML = docLinkHtml;\n",
              "          element.appendChild(docLink);\n",
              "        }\n",
              "      </script>\n",
              "    </div>\n",
              "  </div>\n",
              "  "
            ]
          },
          "metadata": {},
          "execution_count": 111
        }
      ]
    },
    {
      "cell_type": "markdown",
      "source": [
        "####Graph of Support Vector Regression"
      ],
      "metadata": {
        "id": "Av6OPpvK2rzu"
      }
    },
    {
      "cell_type": "code",
      "source": [
        "import matplotlib.pyplot as plt\n",
        "\n",
        "acc = df_actual[[0,'Total death']]\n",
        "yearonly = accident_df['Year']\n",
        "x1 = yearonly.drop_duplicates()\n",
        "y1 = df_actual.groupby(0)['Total death'].sum()\n",
        "y2 = df_pred.groupby(0)['Total death'].sum()\n",
        "plt.plot(x1, y1)\n",
        "plt.plot(x1,y2)\n",
        "plt.plot()\n",
        "plt.show()"
      ],
      "metadata": {
        "colab": {
          "base_uri": "https://localhost:8080/",
          "height": 430
        },
        "outputId": "bfc7d0ce-b656-441d-bf1e-975a45b040da",
        "id": "YpTuI5Np2rzu"
      },
      "execution_count": null,
      "outputs": [
        {
          "output_type": "display_data",
          "data": {
            "text/plain": [
              "<Figure size 640x480 with 1 Axes>"
            ],
            "image/png": "[encoded data removed]"
          },
          "metadata": {}
        }
      ]
    }
  ]
}